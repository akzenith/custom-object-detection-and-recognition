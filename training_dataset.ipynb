{
 "cells": [
  {
   "cell_type": "code",
   "execution_count": 1,
   "metadata": {},
   "outputs": [],
   "source": [
    "import os\n",
    "import wget"
   ]
  },
  {
   "cell_type": "code",
   "execution_count": 2,
   "metadata": {},
   "outputs": [],
   "source": [
    "model_garden_path = os.path.join('models')\n",
    "if not os.path.exists(model_garden_path):\n",
    "    !mkdir {model_garden_path}"
   ]
  },
  {
   "cell_type": "code",
   "execution_count": 3,
   "metadata": {},
   "outputs": [],
   "source": [
    "#model_garden= os.path.join('tf1')\n",
    "#!git clone https://github.com/tensorflow/models.git {model_garden}"
   ]
  },
  {
   "cell_type": "code",
   "execution_count": 4,
   "metadata": {},
   "outputs": [],
   "source": [
    "protoc= os.path.join('protoc2')\n",
    "if not os.path.exists(protoc):\n",
    "    !mkdir {protoc}"
   ]
  },
  {
   "cell_type": "code",
   "execution_count": null,
   "metadata": {},
   "outputs": [],
   "source": [
    "# installing tensorflow object detection\n",
    "\n",
    "url=\"https://github.com/protocolbuffers/protobuf/releases/download/v3.19.1/protoc-3.19.1-win64.zip\"\n",
    "wget.download(url)\n",
    "!move protoc-3.19.1-win64.zip {protoc}\n",
    "!cd {protoc} && tar -xf protoc-3.19.1-win64.zip\n",
    "os.environ['PATH'] += os.pathsep + os.path.abspath(os.path.join(protoc, 'bin'))    # adding protoc to system environment path\n",
    "\n",
    "!cd models/research && protoc object_detection/protos/*.proto --python_out=. && copy object_detection\\\\packages\\\\tf2\\\\setup.py setup.py && python setup.py build && python setup.py install\n",
    "\n",
    "!cd models/research/slim && pip install -e . \n"
   ]
  },
  {
   "cell_type": "code",
   "execution_count": 39,
   "metadata": {
    "collapsed": true
   },
   "outputs": [
    {
     "name": "stderr",
     "output_type": "stream",
     "text": [
      "2021-12-19 14:56:05.251010: W tensorflow/stream_executor/platform/default/dso_loader.cc:64] Could not load dynamic library 'cudart64_110.dll'; dlerror: cudart64_110.dll not found\n",
      "2021-12-19 14:56:05.251114: I tensorflow/stream_executor/cuda/cudart_stub.cc:29] Ignore above cudart dlerror if you do not have a GPU set up on your machine.\n",
      "2021-12-19 14:56:30.666211: W tensorflow/stream_executor/platform/default/dso_loader.cc:64] Could not load dynamic library 'nvcuda.dll'; dlerror: nvcuda.dll not found\n",
      "2021-12-19 14:56:30.666285: W tensorflow/stream_executor/cuda/cuda_driver.cc:269] failed call to cuInit: UNKNOWN ERROR (303)\n",
      "2021-12-19 14:56:30.679191: I tensorflow/stream_executor/cuda/cuda_diagnostics.cc:169] retrieving CUDA diagnostic information for host: Nitro\n",
      "2021-12-19 14:56:30.679651: I tensorflow/stream_executor/cuda/cuda_diagnostics.cc:176] hostname: Nitro\n",
      "Running tests under Python 3.9.7: G:\\anaconda3\\python.exe\n",
      "[ RUN      ] ModelBuilderTF2Test.test_create_center_net_deepmac\n",
      "2021-12-19 14:56:30.702230: I tensorflow/core/platform/cpu_feature_guard.cc:142] This TensorFlow binary is optimized with oneAPI Deep Neural Network Library (oneDNN) to use the following CPU instructions in performance-critical operations:  AVX AVX2\n",
      "To enable them in other operations, rebuild TensorFlow with the appropriate compiler flags.\n",
      "G:\\anaconda3\\lib\\site-packages\\object_detection-0.1-py3.9.egg\\object_detection\\builders\\model_builder.py:1100: DeprecationWarning: The 'warn' function is deprecated, use 'warning' instead\n",
      "  logging.warn(('Building experimental DeepMAC meta-arch.'\n",
      "W1219 14:56:31.382596  5456 model_builder.py:1100] Building experimental DeepMAC meta-arch. Some features may be omitted.\n",
      "INFO:tensorflow:time(__main__.ModelBuilderTF2Test.test_create_center_net_deepmac): 1.27s\n",
      "I1219 14:56:31.946108  5456 test_util.py:2188] time(__main__.ModelBuilderTF2Test.test_create_center_net_deepmac): 1.27s\n",
      "[       OK ] ModelBuilderTF2Test.test_create_center_net_deepmac\n",
      "[ RUN      ] ModelBuilderTF2Test.test_create_center_net_model0 (customize_head_params=True)\n",
      "INFO:tensorflow:time(__main__.ModelBuilderTF2Test.test_create_center_net_model0 (customize_head_params=True)): 7.54s\n",
      "I1219 14:56:39.482164  5456 test_util.py:2188] time(__main__.ModelBuilderTF2Test.test_create_center_net_model0 (customize_head_params=True)): 7.54s\n",
      "[       OK ] ModelBuilderTF2Test.test_create_center_net_model0 (customize_head_params=True)\n",
      "[ RUN      ] ModelBuilderTF2Test.test_create_center_net_model1 (customize_head_params=False)\n",
      "INFO:tensorflow:time(__main__.ModelBuilderTF2Test.test_create_center_net_model1 (customize_head_params=False)): 0.73s\n",
      "I1219 14:56:40.217138  5456 test_util.py:2188] time(__main__.ModelBuilderTF2Test.test_create_center_net_model1 (customize_head_params=False)): 0.73s\n",
      "[       OK ] ModelBuilderTF2Test.test_create_center_net_model1 (customize_head_params=False)\n",
      "[ RUN      ] ModelBuilderTF2Test.test_create_center_net_model_from_keypoints\n",
      "INFO:tensorflow:time(__main__.ModelBuilderTF2Test.test_create_center_net_model_from_keypoints): 0.57s\n",
      "I1219 14:56:40.787444  5456 test_util.py:2188] time(__main__.ModelBuilderTF2Test.test_create_center_net_model_from_keypoints): 0.57s\n",
      "[       OK ] ModelBuilderTF2Test.test_create_center_net_model_from_keypoints\n",
      "[ RUN      ] ModelBuilderTF2Test.test_create_center_net_model_mobilenet\n",
      "INFO:tensorflow:time(__main__.ModelBuilderTF2Test.test_create_center_net_model_mobilenet): 4.1s\n",
      "I1219 14:56:44.892045  5456 test_util.py:2188] time(__main__.ModelBuilderTF2Test.test_create_center_net_model_mobilenet): 4.1s\n",
      "[       OK ] ModelBuilderTF2Test.test_create_center_net_model_mobilenet\n",
      "[ RUN      ] ModelBuilderTF2Test.test_create_experimental_model\n",
      "INFO:tensorflow:time(__main__.ModelBuilderTF2Test.test_create_experimental_model): 0.0s\n",
      "I1219 14:56:44.892045  5456 test_util.py:2188] time(__main__.ModelBuilderTF2Test.test_create_experimental_model): 0.0s\n",
      "[       OK ] ModelBuilderTF2Test.test_create_experimental_model\n",
      "[ RUN      ] ModelBuilderTF2Test.test_create_faster_rcnn_from_config_with_crop_feature0 (True)\n",
      "INFO:tensorflow:time(__main__.ModelBuilderTF2Test.test_create_faster_rcnn_from_config_with_crop_feature0 (True)): 0.06s\n",
      "I1219 14:56:44.954568  5456 test_util.py:2188] time(__main__.ModelBuilderTF2Test.test_create_faster_rcnn_from_config_with_crop_feature0 (True)): 0.06s\n",
      "[       OK ] ModelBuilderTF2Test.test_create_faster_rcnn_from_config_with_crop_feature0 (True)\n",
      "[ RUN      ] ModelBuilderTF2Test.test_create_faster_rcnn_from_config_with_crop_feature1 (False)\n",
      "INFO:tensorflow:time(__main__.ModelBuilderTF2Test.test_create_faster_rcnn_from_config_with_crop_feature1 (False)): 0.03s\n",
      "I1219 14:56:44.985818  5456 test_util.py:2188] time(__main__.ModelBuilderTF2Test.test_create_faster_rcnn_from_config_with_crop_feature1 (False)): 0.03s\n",
      "[       OK ] ModelBuilderTF2Test.test_create_faster_rcnn_from_config_with_crop_feature1 (False)\n",
      "[ RUN      ] ModelBuilderTF2Test.test_create_faster_rcnn_model_from_config_with_example_miner\n",
      "INFO:tensorflow:time(__main__.ModelBuilderTF2Test.test_create_faster_rcnn_model_from_config_with_example_miner): 0.03s\n",
      "I1219 14:56:45.017078  5456 test_util.py:2188] time(__main__.ModelBuilderTF2Test.test_create_faster_rcnn_model_from_config_with_example_miner): 0.03s\n",
      "[       OK ] ModelBuilderTF2Test.test_create_faster_rcnn_model_from_config_with_example_miner\n",
      "[ RUN      ] ModelBuilderTF2Test.test_create_faster_rcnn_models_from_config_faster_rcnn_with_matmul\n",
      "INFO:tensorflow:time(__main__.ModelBuilderTF2Test.test_create_faster_rcnn_models_from_config_faster_rcnn_with_matmul): 0.22s\n",
      "I1219 14:56:45.235899  5456 test_util.py:2188] time(__main__.ModelBuilderTF2Test.test_create_faster_rcnn_models_from_config_faster_rcnn_with_matmul): 0.22s\n",
      "[       OK ] ModelBuilderTF2Test.test_create_faster_rcnn_models_from_config_faster_rcnn_with_matmul\n",
      "[ RUN      ] ModelBuilderTF2Test.test_create_faster_rcnn_models_from_config_faster_rcnn_without_matmul\n",
      "INFO:tensorflow:time(__main__.ModelBuilderTF2Test.test_create_faster_rcnn_models_from_config_faster_rcnn_without_matmul): 0.2s\n",
      "I1219 14:56:45.439085  5456 test_util.py:2188] time(__main__.ModelBuilderTF2Test.test_create_faster_rcnn_models_from_config_faster_rcnn_without_matmul): 0.2s\n",
      "[       OK ] ModelBuilderTF2Test.test_create_faster_rcnn_models_from_config_faster_rcnn_without_matmul\n",
      "[ RUN      ] ModelBuilderTF2Test.test_create_faster_rcnn_models_from_config_mask_rcnn_with_matmul\n",
      "INFO:tensorflow:time(__main__.ModelBuilderTF2Test.test_create_faster_rcnn_models_from_config_mask_rcnn_with_matmul): 0.23s\n",
      "I1219 14:56:45.671867  5456 test_util.py:2188] time(__main__.ModelBuilderTF2Test.test_create_faster_rcnn_models_from_config_mask_rcnn_with_matmul): 0.23s\n",
      "[       OK ] ModelBuilderTF2Test.test_create_faster_rcnn_models_from_config_mask_rcnn_with_matmul\n",
      "[ RUN      ] ModelBuilderTF2Test.test_create_faster_rcnn_models_from_config_mask_rcnn_without_matmul\n",
      "INFO:tensorflow:time(__main__.ModelBuilderTF2Test.test_create_faster_rcnn_models_from_config_mask_rcnn_without_matmul): 0.22s\n",
      "I1219 14:56:45.892720  5456 test_util.py:2188] time(__main__.ModelBuilderTF2Test.test_create_faster_rcnn_models_from_config_mask_rcnn_without_matmul): 0.22s\n",
      "[       OK ] ModelBuilderTF2Test.test_create_faster_rcnn_models_from_config_mask_rcnn_without_matmul\n",
      "[ RUN      ] ModelBuilderTF2Test.test_create_rfcn_model_from_config\n",
      "INFO:tensorflow:time(__main__.ModelBuilderTF2Test.test_create_rfcn_model_from_config): 0.2s\n",
      "I1219 14:56:46.095899  5456 test_util.py:2188] time(__main__.ModelBuilderTF2Test.test_create_rfcn_model_from_config): 0.2s\n",
      "[       OK ] ModelBuilderTF2Test.test_create_rfcn_model_from_config\n",
      "[ RUN      ] ModelBuilderTF2Test.test_create_ssd_fpn_model_from_config\n",
      "INFO:tensorflow:time(__main__.ModelBuilderTF2Test.test_create_ssd_fpn_model_from_config): 0.06s\n",
      "I1219 14:56:46.158422  5456 test_util.py:2188] time(__main__.ModelBuilderTF2Test.test_create_ssd_fpn_model_from_config): 0.06s\n",
      "[       OK ] ModelBuilderTF2Test.test_create_ssd_fpn_model_from_config\n",
      "[ RUN      ] ModelBuilderTF2Test.test_create_ssd_models_from_config\n",
      "I1219 14:56:46.533530  5456 ssd_efficientnet_bifpn_feature_extractor.py:142] EfficientDet EfficientNet backbone version: efficientnet-b0\n",
      "I1219 14:56:46.533530  5456 ssd_efficientnet_bifpn_feature_extractor.py:144] EfficientDet BiFPN num filters: 64\n",
      "I1219 14:56:46.533530  5456 ssd_efficientnet_bifpn_feature_extractor.py:145] EfficientDet BiFPN num iterations: 3\n",
      "I1219 14:56:46.549162  5456 efficientnet_model.py:147] round_filter input=32 output=32\n",
      "I1219 14:56:46.580422  5456 efficientnet_model.py:147] round_filter input=32 output=32\n",
      "I1219 14:56:46.580422  5456 efficientnet_model.py:147] round_filter input=16 output=16\n",
      "I1219 14:56:46.705468  5456 efficientnet_model.py:147] round_filter input=16 output=16\n",
      "I1219 14:56:46.705468  5456 efficientnet_model.py:147] round_filter input=24 output=24\n",
      "I1219 14:56:47.018720  5456 efficientnet_model.py:147] round_filter input=24 output=24\n",
      "I1219 14:56:47.018720  5456 efficientnet_model.py:147] round_filter input=40 output=40\n",
      "I1219 14:56:47.331311  5456 efficientnet_model.py:147] round_filter input=40 output=40\n",
      "I1219 14:56:47.331311  5456 efficientnet_model.py:147] round_filter input=80 output=80\n",
      "I1219 14:56:47.815834  5456 efficientnet_model.py:147] round_filter input=80 output=80\n",
      "I1219 14:56:47.815834  5456 efficientnet_model.py:147] round_filter input=112 output=112\n",
      "I1219 14:56:48.304684  5456 efficientnet_model.py:147] round_filter input=112 output=112\n",
      "I1219 14:56:48.304684  5456 efficientnet_model.py:147] round_filter input=192 output=192\n",
      "I1219 14:56:48.988962  5456 efficientnet_model.py:147] round_filter input=192 output=192\n",
      "I1219 14:56:48.988962  5456 efficientnet_model.py:147] round_filter input=320 output=320\n",
      "I1219 14:56:49.160694  5456 efficientnet_model.py:147] round_filter input=1280 output=1280\n",
      "I1219 14:56:49.239092  5456 efficientnet_model.py:457] Building model efficientnet with params ModelConfig(width_coefficient=1.0, depth_coefficient=1.0, resolution=224, dropout_rate=0.2, blocks=(BlockConfig(input_filters=32, output_filters=16, kernel_size=3, num_repeat=1, expand_ratio=1, strides=(1, 1), se_ratio=0.25, id_skip=True, fused_conv=False, conv_type='depthwise'), BlockConfig(input_filters=16, output_filters=24, kernel_size=3, num_repeat=2, expand_ratio=6, strides=(2, 2), se_ratio=0.25, id_skip=True, fused_conv=False, conv_type='depthwise'), BlockConfig(input_filters=24, output_filters=40, kernel_size=5, num_repeat=2, expand_ratio=6, strides=(2, 2), se_ratio=0.25, id_skip=True, fused_conv=False, conv_type='depthwise'), BlockConfig(input_filters=40, output_filters=80, kernel_size=3, num_repeat=3, expand_ratio=6, strides=(2, 2), se_ratio=0.25, id_skip=True, fused_conv=False, conv_type='depthwise'), BlockConfig(input_filters=80, output_filters=112, kernel_size=5, num_repeat=3, expand_ratio=6, strides=(1, 1), se_ratio=0.25, id_skip=True, fused_conv=False, conv_type='depthwise'), BlockConfig(input_filters=112, output_filters=192, kernel_size=5, num_repeat=4, expand_ratio=6, strides=(2, 2), se_ratio=0.25, id_skip=True, fused_conv=False, conv_type='depthwise'), BlockConfig(input_filters=192, output_filters=320, kernel_size=3, num_repeat=1, expand_ratio=6, strides=(1, 1), se_ratio=0.25, id_skip=True, fused_conv=False, conv_type='depthwise')), stem_base_filters=32, top_base_filters=1280, activation='simple_swish', batch_norm='default', bn_momentum=0.99, bn_epsilon=0.001, weight_decay=5e-06, drop_connect_rate=0.2, depth_divisor=8, min_depth=None, use_se=True, input_channels=3, num_classes=1000, model_name='efficientnet', rescale_input=False, data_format='channels_last', dtype='float32')\n",
      "I1219 14:56:49.363879  5456 ssd_efficientnet_bifpn_feature_extractor.py:142] EfficientDet EfficientNet backbone version: efficientnet-b1\n",
      "I1219 14:56:49.363879  5456 ssd_efficientnet_bifpn_feature_extractor.py:144] EfficientDet BiFPN num filters: 88\n",
      "I1219 14:56:49.363879  5456 ssd_efficientnet_bifpn_feature_extractor.py:145] EfficientDet BiFPN num iterations: 4\n",
      "I1219 14:56:49.379510  5456 efficientnet_model.py:147] round_filter input=32 output=32\n"
     ]
    },
    {
     "name": "stderr",
     "output_type": "stream",
     "text": [
      "I1219 14:56:49.410770  5456 efficientnet_model.py:147] round_filter input=32 output=32\n",
      "I1219 14:56:49.410770  5456 efficientnet_model.py:147] round_filter input=16 output=16\n",
      "I1219 14:56:49.879666  5456 efficientnet_model.py:147] round_filter input=16 output=16\n",
      "I1219 14:56:49.879666  5456 efficientnet_model.py:147] round_filter input=24 output=24\n",
      "I1219 14:56:50.349040  5456 efficientnet_model.py:147] round_filter input=24 output=24\n",
      "I1219 14:56:50.349040  5456 efficientnet_model.py:147] round_filter input=40 output=40\n",
      "I1219 14:56:50.817741  5456 efficientnet_model.py:147] round_filter input=40 output=40\n",
      "I1219 14:56:50.817741  5456 efficientnet_model.py:147] round_filter input=80 output=80\n",
      "I1219 14:56:51.474603  5456 efficientnet_model.py:147] round_filter input=80 output=80\n",
      "I1219 14:56:51.474603  5456 efficientnet_model.py:147] round_filter input=112 output=112\n",
      "I1219 14:56:52.131450  5456 efficientnet_model.py:147] round_filter input=112 output=112\n",
      "I1219 14:56:52.131450  5456 efficientnet_model.py:147] round_filter input=192 output=192\n",
      "I1219 14:56:52.983067  5456 efficientnet_model.py:147] round_filter input=192 output=192\n",
      "I1219 14:56:52.991220  5456 efficientnet_model.py:147] round_filter input=320 output=320\n",
      "I1219 14:56:53.350929  5456 efficientnet_model.py:147] round_filter input=1280 output=1280\n",
      "I1219 14:56:53.444696  5456 efficientnet_model.py:457] Building model efficientnet with params ModelConfig(width_coefficient=1.0, depth_coefficient=1.1, resolution=240, dropout_rate=0.2, blocks=(BlockConfig(input_filters=32, output_filters=16, kernel_size=3, num_repeat=1, expand_ratio=1, strides=(1, 1), se_ratio=0.25, id_skip=True, fused_conv=False, conv_type='depthwise'), BlockConfig(input_filters=16, output_filters=24, kernel_size=3, num_repeat=2, expand_ratio=6, strides=(2, 2), se_ratio=0.25, id_skip=True, fused_conv=False, conv_type='depthwise'), BlockConfig(input_filters=24, output_filters=40, kernel_size=5, num_repeat=2, expand_ratio=6, strides=(2, 2), se_ratio=0.25, id_skip=True, fused_conv=False, conv_type='depthwise'), BlockConfig(input_filters=40, output_filters=80, kernel_size=3, num_repeat=3, expand_ratio=6, strides=(2, 2), se_ratio=0.25, id_skip=True, fused_conv=False, conv_type='depthwise'), BlockConfig(input_filters=80, output_filters=112, kernel_size=5, num_repeat=3, expand_ratio=6, strides=(1, 1), se_ratio=0.25, id_skip=True, fused_conv=False, conv_type='depthwise'), BlockConfig(input_filters=112, output_filters=192, kernel_size=5, num_repeat=4, expand_ratio=6, strides=(2, 2), se_ratio=0.25, id_skip=True, fused_conv=False, conv_type='depthwise'), BlockConfig(input_filters=192, output_filters=320, kernel_size=3, num_repeat=1, expand_ratio=6, strides=(1, 1), se_ratio=0.25, id_skip=True, fused_conv=False, conv_type='depthwise')), stem_base_filters=32, top_base_filters=1280, activation='simple_swish', batch_norm='default', bn_momentum=0.99, bn_epsilon=0.001, weight_decay=5e-06, drop_connect_rate=0.2, depth_divisor=8, min_depth=None, use_se=True, input_channels=3, num_classes=1000, model_name='efficientnet', rescale_input=False, data_format='channels_last', dtype='float32')\n",
      "I1219 14:56:53.600996  5456 ssd_efficientnet_bifpn_feature_extractor.py:142] EfficientDet EfficientNet backbone version: efficientnet-b2\n",
      "I1219 14:56:53.600996  5456 ssd_efficientnet_bifpn_feature_extractor.py:144] EfficientDet BiFPN num filters: 112\n",
      "I1219 14:56:53.600996  5456 ssd_efficientnet_bifpn_feature_extractor.py:145] EfficientDet BiFPN num iterations: 5\n",
      "I1219 14:56:53.600996  5456 efficientnet_model.py:147] round_filter input=32 output=32\n",
      "I1219 14:56:53.647687  5456 efficientnet_model.py:147] round_filter input=32 output=32\n",
      "I1219 14:56:53.647687  5456 efficientnet_model.py:147] round_filter input=16 output=16\n",
      "I1219 14:56:53.897768  5456 efficientnet_model.py:147] round_filter input=16 output=16\n",
      "I1219 14:56:53.897768  5456 efficientnet_model.py:147] round_filter input=24 output=24\n",
      "I1219 14:56:54.367201  5456 efficientnet_model.py:147] round_filter input=24 output=24\n",
      "I1219 14:56:54.367201  5456 efficientnet_model.py:147] round_filter input=40 output=48\n",
      "I1219 14:56:54.836094  5456 efficientnet_model.py:147] round_filter input=40 output=48\n",
      "I1219 14:56:54.836094  5456 efficientnet_model.py:147] round_filter input=80 output=88\n",
      "I1219 14:56:55.477473  5456 efficientnet_model.py:147] round_filter input=80 output=88\n",
      "I1219 14:56:55.477473  5456 efficientnet_model.py:147] round_filter input=112 output=120\n",
      "I1219 14:56:56.134146  5456 efficientnet_model.py:147] round_filter input=112 output=120\n",
      "I1219 14:56:56.134146  5456 efficientnet_model.py:147] round_filter input=192 output=208\n",
      "I1219 14:56:56.993752  5456 efficientnet_model.py:147] round_filter input=192 output=208\n",
      "I1219 14:56:56.993752  5456 efficientnet_model.py:147] round_filter input=320 output=352\n",
      "I1219 14:56:57.369529  5456 efficientnet_model.py:147] round_filter input=1280 output=1408\n",
      "I1219 14:56:57.463030  5456 efficientnet_model.py:457] Building model efficientnet with params ModelConfig(width_coefficient=1.1, depth_coefficient=1.2, resolution=260, dropout_rate=0.3, blocks=(BlockConfig(input_filters=32, output_filters=16, kernel_size=3, num_repeat=1, expand_ratio=1, strides=(1, 1), se_ratio=0.25, id_skip=True, fused_conv=False, conv_type='depthwise'), BlockConfig(input_filters=16, output_filters=24, kernel_size=3, num_repeat=2, expand_ratio=6, strides=(2, 2), se_ratio=0.25, id_skip=True, fused_conv=False, conv_type='depthwise'), BlockConfig(input_filters=24, output_filters=40, kernel_size=5, num_repeat=2, expand_ratio=6, strides=(2, 2), se_ratio=0.25, id_skip=True, fused_conv=False, conv_type='depthwise'), BlockConfig(input_filters=40, output_filters=80, kernel_size=3, num_repeat=3, expand_ratio=6, strides=(2, 2), se_ratio=0.25, id_skip=True, fused_conv=False, conv_type='depthwise'), BlockConfig(input_filters=80, output_filters=112, kernel_size=5, num_repeat=3, expand_ratio=6, strides=(1, 1), se_ratio=0.25, id_skip=True, fused_conv=False, conv_type='depthwise'), BlockConfig(input_filters=112, output_filters=192, kernel_size=5, num_repeat=4, expand_ratio=6, strides=(2, 2), se_ratio=0.25, id_skip=True, fused_conv=False, conv_type='depthwise'), BlockConfig(input_filters=192, output_filters=320, kernel_size=3, num_repeat=1, expand_ratio=6, strides=(1, 1), se_ratio=0.25, id_skip=True, fused_conv=False, conv_type='depthwise')), stem_base_filters=32, top_base_filters=1280, activation='simple_swish', batch_norm='default', bn_momentum=0.99, bn_epsilon=0.001, weight_decay=5e-06, drop_connect_rate=0.2, depth_divisor=8, min_depth=None, use_se=True, input_channels=3, num_classes=1000, model_name='efficientnet', rescale_input=False, data_format='channels_last', dtype='float32')\n",
      "I1219 14:56:57.619337  5456 ssd_efficientnet_bifpn_feature_extractor.py:142] EfficientDet EfficientNet backbone version: efficientnet-b3\n",
      "I1219 14:56:57.619337  5456 ssd_efficientnet_bifpn_feature_extractor.py:144] EfficientDet BiFPN num filters: 160\n",
      "I1219 14:56:57.619337  5456 ssd_efficientnet_bifpn_feature_extractor.py:145] EfficientDet BiFPN num iterations: 6\n",
      "I1219 14:56:57.619337  5456 efficientnet_model.py:147] round_filter input=32 output=40\n",
      "I1219 14:56:57.650596  5456 efficientnet_model.py:147] round_filter input=32 output=40\n",
      "I1219 14:56:57.650596  5456 efficientnet_model.py:147] round_filter input=16 output=24\n",
      "I1219 14:56:58.229274  5456 efficientnet_model.py:147] round_filter input=16 output=24\n",
      "I1219 14:56:58.229274  5456 efficientnet_model.py:147] round_filter input=24 output=32\n",
      "I1219 14:56:58.698166  5456 efficientnet_model.py:147] round_filter input=24 output=32\n",
      "I1219 14:56:58.698166  5456 efficientnet_model.py:147] round_filter input=40 output=48\n",
      "I1219 14:56:59.167281  5456 efficientnet_model.py:147] round_filter input=40 output=48\n",
      "I1219 14:56:59.167281  5456 efficientnet_model.py:147] round_filter input=80 output=96\n",
      "I1219 14:56:59.964371  5456 efficientnet_model.py:147] round_filter input=80 output=96\n",
      "I1219 14:56:59.964371  5456 efficientnet_model.py:147] round_filter input=112 output=136\n",
      "I1219 14:57:00.793344  5456 efficientnet_model.py:147] round_filter input=112 output=136\n",
      "I1219 14:57:00.793344  5456 efficientnet_model.py:147] round_filter input=192 output=232\n",
      "I1219 14:57:01.856377  5456 efficientnet_model.py:147] round_filter input=192 output=232\n",
      "I1219 14:57:01.856377  5456 efficientnet_model.py:147] round_filter input=320 output=384\n",
      "I1219 14:57:02.232026  5456 efficientnet_model.py:147] round_filter input=1280 output=1536\n",
      "I1219 14:57:02.341429  5456 efficientnet_model.py:457] Building model efficientnet with params ModelConfig(width_coefficient=1.2, depth_coefficient=1.4, resolution=300, dropout_rate=0.3, blocks=(BlockConfig(input_filters=32, output_filters=16, kernel_size=3, num_repeat=1, expand_ratio=1, strides=(1, 1), se_ratio=0.25, id_skip=True, fused_conv=False, conv_type='depthwise'), BlockConfig(input_filters=16, output_filters=24, kernel_size=3, num_repeat=2, expand_ratio=6, strides=(2, 2), se_ratio=0.25, id_skip=True, fused_conv=False, conv_type='depthwise'), BlockConfig(input_filters=24, output_filters=40, kernel_size=5, num_repeat=2, expand_ratio=6, strides=(2, 2), se_ratio=0.25, id_skip=True, fused_conv=False, conv_type='depthwise'), BlockConfig(input_filters=40, output_filters=80, kernel_size=3, num_repeat=3, expand_ratio=6, strides=(2, 2), se_ratio=0.25, id_skip=True, fused_conv=False, conv_type='depthwise'), BlockConfig(input_filters=80, output_filters=112, kernel_size=5, num_repeat=3, expand_ratio=6, strides=(1, 1), se_ratio=0.25, id_skip=True, fused_conv=False, conv_type='depthwise'), BlockConfig(input_filters=112, output_filters=192, kernel_size=5, num_repeat=4, expand_ratio=6, strides=(2, 2), se_ratio=0.25, id_skip=True, fused_conv=False, conv_type='depthwise'), BlockConfig(input_filters=192, output_filters=320, kernel_size=3, num_repeat=1, expand_ratio=6, strides=(1, 1), se_ratio=0.25, id_skip=True, fused_conv=False, conv_type='depthwise')), stem_base_filters=32, top_base_filters=1280, activation='simple_swish', batch_norm='default', bn_momentum=0.99, bn_epsilon=0.001, weight_decay=5e-06, drop_connect_rate=0.2, depth_divisor=8, min_depth=None, use_se=True, input_channels=3, num_classes=1000, model_name='efficientnet', rescale_input=False, data_format='channels_last', dtype='float32')\n",
      "I1219 14:57:02.513363  5456 ssd_efficientnet_bifpn_feature_extractor.py:142] EfficientDet EfficientNet backbone version: efficientnet-b4\n",
      "I1219 14:57:02.513363  5456 ssd_efficientnet_bifpn_feature_extractor.py:144] EfficientDet BiFPN num filters: 224\n",
      "I1219 14:57:02.513363  5456 ssd_efficientnet_bifpn_feature_extractor.py:145] EfficientDet BiFPN num iterations: 7\n",
      "I1219 14:57:02.513363  5456 efficientnet_model.py:147] round_filter input=32 output=48\n",
      "I1219 14:57:02.544622  5456 efficientnet_model.py:147] round_filter input=32 output=48\n",
      "I1219 14:57:02.544622  5456 efficientnet_model.py:147] round_filter input=16 output=24\n",
      "I1219 14:57:02.794696  5456 efficientnet_model.py:147] round_filter input=16 output=24\n",
      "I1219 14:57:02.794696  5456 efficientnet_model.py:147] round_filter input=24 output=32\n",
      "I1219 14:57:03.404641  5456 efficientnet_model.py:147] round_filter input=24 output=32\n",
      "I1219 14:57:03.404641  5456 efficientnet_model.py:147] round_filter input=40 output=56\n",
      "I1219 14:57:04.045485  5456 efficientnet_model.py:147] round_filter input=40 output=56\n",
      "I1219 14:57:04.045485  5456 efficientnet_model.py:147] round_filter input=80 output=112\n",
      "I1219 14:57:05.014849  5456 efficientnet_model.py:147] round_filter input=80 output=112\n",
      "I1219 14:57:05.014849  5456 efficientnet_model.py:147] round_filter input=112 output=160\n",
      "I1219 14:57:06.015869  5456 efficientnet_model.py:147] round_filter input=112 output=160\n",
      "I1219 14:57:06.015869  5456 efficientnet_model.py:147] round_filter input=192 output=272\n",
      "I1219 14:57:07.798294  5456 efficientnet_model.py:147] round_filter input=192 output=272\n",
      "I1219 14:57:07.798294  5456 efficientnet_model.py:147] round_filter input=320 output=448\n",
      "I1219 14:57:08.236036  5456 efficientnet_model.py:147] round_filter input=1280 output=1792\n",
      "I1219 14:57:08.329835  5456 efficientnet_model.py:457] Building model efficientnet with params ModelConfig(width_coefficient=1.4, depth_coefficient=1.8, resolution=380, dropout_rate=0.4, blocks=(BlockConfig(input_filters=32, output_filters=16, kernel_size=3, num_repeat=1, expand_ratio=1, strides=(1, 1), se_ratio=0.25, id_skip=True, fused_conv=False, conv_type='depthwise'), BlockConfig(input_filters=16, output_filters=24, kernel_size=3, num_repeat=2, expand_ratio=6, strides=(2, 2), se_ratio=0.25, id_skip=True, fused_conv=False, conv_type='depthwise'), BlockConfig(input_filters=24, output_filters=40, kernel_size=5, num_repeat=2, expand_ratio=6, strides=(2, 2), se_ratio=0.25, id_skip=True, fused_conv=False, conv_type='depthwise'), BlockConfig(input_filters=40, output_filters=80, kernel_size=3, num_repeat=3, expand_ratio=6, strides=(2, 2), se_ratio=0.25, id_skip=True, fused_conv=False, conv_type='depthwise'), BlockConfig(input_filters=80, output_filters=112, kernel_size=5, num_repeat=3, expand_ratio=6, strides=(1, 1), se_ratio=0.25, id_skip=True, fused_conv=False, conv_type='depthwise'), BlockConfig(input_filters=112, output_filters=192, kernel_size=5, num_repeat=4, expand_ratio=6, strides=(2, 2), se_ratio=0.25, id_skip=True, fused_conv=False, conv_type='depthwise'), BlockConfig(input_filters=192, output_filters=320, kernel_size=3, num_repeat=1, expand_ratio=6, strides=(1, 1), se_ratio=0.25, id_skip=True, fused_conv=False, conv_type='depthwise')), stem_base_filters=32, top_base_filters=1280, activation='simple_swish', batch_norm='default', bn_momentum=0.99, bn_epsilon=0.001, weight_decay=5e-06, drop_connect_rate=0.2, depth_divisor=8, min_depth=None, use_se=True, input_channels=3, num_classes=1000, model_name='efficientnet', rescale_input=False, data_format='channels_last', dtype='float32')\n",
      "I1219 14:57:08.533027  5456 ssd_efficientnet_bifpn_feature_extractor.py:142] EfficientDet EfficientNet backbone version: efficientnet-b5\n",
      "I1219 14:57:08.533027  5456 ssd_efficientnet_bifpn_feature_extractor.py:144] EfficientDet BiFPN num filters: 288\n",
      "I1219 14:57:08.533027  5456 ssd_efficientnet_bifpn_feature_extractor.py:145] EfficientDet BiFPN num iterations: 7\n",
      "I1219 14:57:08.533027  5456 efficientnet_model.py:147] round_filter input=32 output=48\n",
      "I1219 14:57:08.564287  5456 efficientnet_model.py:147] round_filter input=32 output=48\n",
      "I1219 14:57:08.564287  5456 efficientnet_model.py:147] round_filter input=16 output=24\n",
      "I1219 14:57:08.939395  5456 efficientnet_model.py:147] round_filter input=16 output=24\n",
      "I1219 14:57:08.939395  5456 efficientnet_model.py:147] round_filter input=24 output=40\n",
      "I1219 14:57:09.736937  5456 efficientnet_model.py:147] round_filter input=24 output=40\n",
      "I1219 14:57:09.736937  5456 efficientnet_model.py:147] round_filter input=40 output=64\n",
      "I1219 14:57:10.550000  5456 efficientnet_model.py:147] round_filter input=40 output=64\n",
      "I1219 14:57:10.550000  5456 efficientnet_model.py:147] round_filter input=80 output=128\n",
      "I1219 14:57:11.707267  5456 efficientnet_model.py:147] round_filter input=80 output=128\n",
      "I1219 14:57:11.707267  5456 efficientnet_model.py:147] round_filter input=112 output=176\n",
      "I1219 14:57:12.910922  5456 efficientnet_model.py:147] round_filter input=112 output=176\n",
      "I1219 14:57:12.910922  5456 efficientnet_model.py:147] round_filter input=192 output=304\n",
      "I1219 14:57:14.662175  5456 efficientnet_model.py:147] round_filter input=192 output=304\n",
      "I1219 14:57:14.662175  5456 efficientnet_model.py:147] round_filter input=320 output=512\n",
      "I1219 14:57:15.396974  5456 efficientnet_model.py:147] round_filter input=1280 output=2048\n",
      "I1219 14:57:15.506413  5456 efficientnet_model.py:457] Building model efficientnet with params ModelConfig(width_coefficient=1.6, depth_coefficient=2.2, resolution=456, dropout_rate=0.4, blocks=(BlockConfig(input_filters=32, output_filters=16, kernel_size=3, num_repeat=1, expand_ratio=1, strides=(1, 1), se_ratio=0.25, id_skip=True, fused_conv=False, conv_type='depthwise'), BlockConfig(input_filters=16, output_filters=24, kernel_size=3, num_repeat=2, expand_ratio=6, strides=(2, 2), se_ratio=0.25, id_skip=True, fused_conv=False, conv_type='depthwise'), BlockConfig(input_filters=24, output_filters=40, kernel_size=5, num_repeat=2, expand_ratio=6, strides=(2, 2), se_ratio=0.25, id_skip=True, fused_conv=False, conv_type='depthwise'), BlockConfig(input_filters=40, output_filters=80, kernel_size=3, num_repeat=3, expand_ratio=6, strides=(2, 2), se_ratio=0.25, id_skip=True, fused_conv=False, conv_type='depthwise'), BlockConfig(input_filters=80, output_filters=112, kernel_size=5, num_repeat=3, expand_ratio=6, strides=(1, 1), se_ratio=0.25, id_skip=True, fused_conv=False, conv_type='depthwise'), BlockConfig(input_filters=112, output_filters=192, kernel_size=5, num_repeat=4, expand_ratio=6, strides=(2, 2), se_ratio=0.25, id_skip=True, fused_conv=False, conv_type='depthwise'), BlockConfig(input_filters=192, output_filters=320, kernel_size=3, num_repeat=1, expand_ratio=6, strides=(1, 1), se_ratio=0.25, id_skip=True, fused_conv=False, conv_type='depthwise')), stem_base_filters=32, top_base_filters=1280, activation='simple_swish', batch_norm='default', bn_momentum=0.99, bn_epsilon=0.001, weight_decay=5e-06, drop_connect_rate=0.2, depth_divisor=8, min_depth=None, use_se=True, input_channels=3, num_classes=1000, model_name='efficientnet', rescale_input=False, data_format='channels_last', dtype='float32')\n",
      "I1219 14:57:15.740853  5456 ssd_efficientnet_bifpn_feature_extractor.py:142] EfficientDet EfficientNet backbone version: efficientnet-b6\n",
      "I1219 14:57:15.740853  5456 ssd_efficientnet_bifpn_feature_extractor.py:144] EfficientDet BiFPN num filters: 384\n",
      "I1219 14:57:15.740853  5456 ssd_efficientnet_bifpn_feature_extractor.py:145] EfficientDet BiFPN num iterations: 8\n",
      "I1219 14:57:15.756482  5456 efficientnet_model.py:147] round_filter input=32 output=56\n",
      "I1219 14:57:15.787745  5456 efficientnet_model.py:147] round_filter input=32 output=56\n",
      "I1219 14:57:15.787745  5456 efficientnet_model.py:147] round_filter input=16 output=32\n",
      "I1219 14:57:16.162862  5456 efficientnet_model.py:147] round_filter input=16 output=32\n",
      "I1219 14:57:16.162862  5456 efficientnet_model.py:147] round_filter input=24 output=40\n",
      "I1219 14:57:17.132477  5456 efficientnet_model.py:147] round_filter input=24 output=40\n",
      "I1219 14:57:17.132477  5456 efficientnet_model.py:147] round_filter input=40 output=72\n",
      "I1219 14:57:18.586586  5456 efficientnet_model.py:147] round_filter input=40 output=72\n",
      "I1219 14:57:18.586586  5456 efficientnet_model.py:147] round_filter input=80 output=144\n",
      "I1219 14:57:19.915726  5456 efficientnet_model.py:147] round_filter input=80 output=144\n",
      "I1219 14:57:19.915726  5456 efficientnet_model.py:147] round_filter input=112 output=200\n",
      "I1219 14:57:21.322731  5456 efficientnet_model.py:147] round_filter input=112 output=200\n",
      "I1219 14:57:21.322731  5456 efficientnet_model.py:147] round_filter input=192 output=344\n",
      "I1219 14:57:23.527882  5456 efficientnet_model.py:147] round_filter input=192 output=344\n",
      "I1219 14:57:23.527882  5456 efficientnet_model.py:147] round_filter input=320 output=576\n",
      "I1219 14:57:24.309143  5456 efficientnet_model.py:147] round_filter input=1280 output=2304\n",
      "I1219 14:57:24.434181  5456 efficientnet_model.py:457] Building model efficientnet with params ModelConfig(width_coefficient=1.8, depth_coefficient=2.6, resolution=528, dropout_rate=0.5, blocks=(BlockConfig(input_filters=32, output_filters=16, kernel_size=3, num_repeat=1, expand_ratio=1, strides=(1, 1), se_ratio=0.25, id_skip=True, fused_conv=False, conv_type='depthwise'), BlockConfig(input_filters=16, output_filters=24, kernel_size=3, num_repeat=2, expand_ratio=6, strides=(2, 2), se_ratio=0.25, id_skip=True, fused_conv=False, conv_type='depthwise'), BlockConfig(input_filters=24, output_filters=40, kernel_size=5, num_repeat=2, expand_ratio=6, strides=(2, 2), se_ratio=0.25, id_skip=True, fused_conv=False, conv_type='depthwise'), BlockConfig(input_filters=40, output_filters=80, kernel_size=3, num_repeat=3, expand_ratio=6, strides=(2, 2), se_ratio=0.25, id_skip=True, fused_conv=False, conv_type='depthwise'), BlockConfig(input_filters=80, output_filters=112, kernel_size=5, num_repeat=3, expand_ratio=6, strides=(1, 1), se_ratio=0.25, id_skip=True, fused_conv=False, conv_type='depthwise'), BlockConfig(input_filters=112, output_filters=192, kernel_size=5, num_repeat=4, expand_ratio=6, strides=(2, 2), se_ratio=0.25, id_skip=True, fused_conv=False, conv_type='depthwise'), BlockConfig(input_filters=192, output_filters=320, kernel_size=3, num_repeat=1, expand_ratio=6, strides=(1, 1), se_ratio=0.25, id_skip=True, fused_conv=False, conv_type='depthwise')), stem_base_filters=32, top_base_filters=1280, activation='simple_swish', batch_norm='default', bn_momentum=0.99, bn_epsilon=0.001, weight_decay=5e-06, drop_connect_rate=0.2, depth_divisor=8, min_depth=None, use_se=True, input_channels=3, num_classes=1000, model_name='efficientnet', rescale_input=False, data_format='channels_last', dtype='float32')\n",
      "I1219 14:57:24.699948  5456 ssd_efficientnet_bifpn_feature_extractor.py:142] EfficientDet EfficientNet backbone version: efficientnet-b7\n",
      "I1219 14:57:24.699948  5456 ssd_efficientnet_bifpn_feature_extractor.py:144] EfficientDet BiFPN num filters: 384\n",
      "I1219 14:57:24.699948  5456 ssd_efficientnet_bifpn_feature_extractor.py:145] EfficientDet BiFPN num iterations: 8\n",
      "I1219 14:57:24.715575  5456 efficientnet_model.py:147] round_filter input=32 output=64\n",
      "I1219 14:57:24.731207  5456 efficientnet_model.py:147] round_filter input=32 output=64\n",
      "I1219 14:57:24.731207  5456 efficientnet_model.py:147] round_filter input=16 output=32\n",
      "I1219 14:57:25.231358  5456 efficientnet_model.py:147] round_filter input=16 output=32\n",
      "I1219 14:57:25.231358  5456 efficientnet_model.py:147] round_filter input=24 output=48\n",
      "I1219 14:57:26.341902  5456 efficientnet_model.py:147] round_filter input=24 output=48\n",
      "I1219 14:57:26.341902  5456 efficientnet_model.py:147] round_filter input=40 output=80\n",
      "I1219 14:57:27.451778  5456 efficientnet_model.py:147] round_filter input=40 output=80\n",
      "I1219 14:57:27.467403  5456 efficientnet_model.py:147] round_filter input=80 output=160\n",
      "I1219 14:57:29.609960  5456 efficientnet_model.py:147] round_filter input=80 output=160\n",
      "I1219 14:57:29.609960  5456 efficientnet_model.py:147] round_filter input=112 output=224\n",
      "I1219 14:57:31.503022  5456 efficientnet_model.py:147] round_filter input=112 output=224\n",
      "I1219 14:57:31.503022  5456 efficientnet_model.py:147] round_filter input=192 output=384\n",
      "I1219 14:57:34.265499  5456 efficientnet_model.py:147] round_filter input=192 output=384\n",
      "I1219 14:57:34.265499  5456 efficientnet_model.py:147] round_filter input=320 output=640\n",
      "I1219 14:57:35.449008  5456 efficientnet_model.py:147] round_filter input=1280 output=2560\n",
      "I1219 14:57:35.609413  5456 efficientnet_model.py:457] Building model efficientnet with params ModelConfig(width_coefficient=2.0, depth_coefficient=3.1, resolution=600, dropout_rate=0.5, blocks=(BlockConfig(input_filters=32, output_filters=16, kernel_size=3, num_repeat=1, expand_ratio=1, strides=(1, 1), se_ratio=0.25, id_skip=True, fused_conv=False, conv_type='depthwise'), BlockConfig(input_filters=16, output_filters=24, kernel_size=3, num_repeat=2, expand_ratio=6, strides=(2, 2), se_ratio=0.25, id_skip=True, fused_conv=False, conv_type='depthwise'), BlockConfig(input_filters=24, output_filters=40, kernel_size=5, num_repeat=2, expand_ratio=6, strides=(2, 2), se_ratio=0.25, id_skip=True, fused_conv=False, conv_type='depthwise'), BlockConfig(input_filters=40, output_filters=80, kernel_size=3, num_repeat=3, expand_ratio=6, strides=(2, 2), se_ratio=0.25, id_skip=True, fused_conv=False, conv_type='depthwise'), BlockConfig(input_filters=80, output_filters=112, kernel_size=5, num_repeat=3, expand_ratio=6, strides=(1, 1), se_ratio=0.25, id_skip=True, fused_conv=False, conv_type='depthwise'), BlockConfig(input_filters=112, output_filters=192, kernel_size=5, num_repeat=4, expand_ratio=6, strides=(2, 2), se_ratio=0.25, id_skip=True, fused_conv=False, conv_type='depthwise'), BlockConfig(input_filters=192, output_filters=320, kernel_size=3, num_repeat=1, expand_ratio=6, strides=(1, 1), se_ratio=0.25, id_skip=True, fused_conv=False, conv_type='depthwise')), stem_base_filters=32, top_base_filters=1280, activation='simple_swish', batch_norm='default', bn_momentum=0.99, bn_epsilon=0.001, weight_decay=5e-06, drop_connect_rate=0.2, depth_divisor=8, min_depth=None, use_se=True, input_channels=3, num_classes=1000, model_name='efficientnet', rescale_input=False, data_format='channels_last', dtype='float32')\n",
      "INFO:tensorflow:time(__main__.ModelBuilderTF2Test.test_create_ssd_models_from_config): 49.78s\n",
      "I1219 14:57:35.937493  5456 test_util.py:2188] time(__main__.ModelBuilderTF2Test.test_create_ssd_models_from_config): 49.78s\n",
      "[       OK ] ModelBuilderTF2Test.test_create_ssd_models_from_config\n",
      "[ RUN      ] ModelBuilderTF2Test.test_invalid_faster_rcnn_batchnorm_update\n",
      "INFO:tensorflow:time(__main__.ModelBuilderTF2Test.test_invalid_faster_rcnn_batchnorm_update): 0.0s\n",
      "I1219 14:57:35.953497  5456 test_util.py:2188] time(__main__.ModelBuilderTF2Test.test_invalid_faster_rcnn_batchnorm_update): 0.0s\n",
      "[       OK ] ModelBuilderTF2Test.test_invalid_faster_rcnn_batchnorm_update\n",
      "[ RUN      ] ModelBuilderTF2Test.test_invalid_first_stage_nms_iou_threshold\n",
      "INFO:tensorflow:time(__main__.ModelBuilderTF2Test.test_invalid_first_stage_nms_iou_threshold): 0.01s\n",
      "I1219 14:57:35.961502  5456 test_util.py:2188] time(__main__.ModelBuilderTF2Test.test_invalid_first_stage_nms_iou_threshold): 0.01s\n",
      "[       OK ] ModelBuilderTF2Test.test_invalid_first_stage_nms_iou_threshold\n",
      "[ RUN      ] ModelBuilderTF2Test.test_invalid_model_config_proto\n",
      "INFO:tensorflow:time(__main__.ModelBuilderTF2Test.test_invalid_model_config_proto): 0.0s\n",
      "I1219 14:57:35.961502  5456 test_util.py:2188] time(__main__.ModelBuilderTF2Test.test_invalid_model_config_proto): 0.0s\n",
      "[       OK ] ModelBuilderTF2Test.test_invalid_model_config_proto\n",
      "[ RUN      ] ModelBuilderTF2Test.test_invalid_second_stage_batch_size\n",
      "INFO:tensorflow:time(__main__.ModelBuilderTF2Test.test_invalid_second_stage_batch_size): 0.01s\n",
      "I1219 14:57:35.969501  5456 test_util.py:2188] time(__main__.ModelBuilderTF2Test.test_invalid_second_stage_batch_size): 0.01s\n",
      "[       OK ] ModelBuilderTF2Test.test_invalid_second_stage_batch_size\n",
      "[ RUN      ] ModelBuilderTF2Test.test_session\n",
      "[  SKIPPED ] ModelBuilderTF2Test.test_session\n",
      "[ RUN      ] ModelBuilderTF2Test.test_unknown_faster_rcnn_feature_extractor\n",
      "INFO:tensorflow:time(__main__.ModelBuilderTF2Test.test_unknown_faster_rcnn_feature_extractor): 0.0s\n",
      "I1219 14:57:35.969501  5456 test_util.py:2188] time(__main__.ModelBuilderTF2Test.test_unknown_faster_rcnn_feature_extractor): 0.0s\n",
      "[       OK ] ModelBuilderTF2Test.test_unknown_faster_rcnn_feature_extractor\n",
      "[ RUN      ] ModelBuilderTF2Test.test_unknown_meta_architecture\n",
      "INFO:tensorflow:time(__main__.ModelBuilderTF2Test.test_unknown_meta_architecture): 0.0s\n",
      "I1219 14:57:35.969501  5456 test_util.py:2188] time(__main__.ModelBuilderTF2Test.test_unknown_meta_architecture): 0.0s\n",
      "[       OK ] ModelBuilderTF2Test.test_unknown_meta_architecture\n",
      "[ RUN      ] ModelBuilderTF2Test.test_unknown_ssd_feature_extractor\n",
      "INFO:tensorflow:time(__main__.ModelBuilderTF2Test.test_unknown_ssd_feature_extractor): 0.01s\n",
      "I1219 14:57:35.977505  5456 test_util.py:2188] time(__main__.ModelBuilderTF2Test.test_unknown_ssd_feature_extractor): 0.01s\n",
      "[       OK ] ModelBuilderTF2Test.test_unknown_ssd_feature_extractor\n",
      "----------------------------------------------------------------------\n"
     ]
    },
    {
     "name": "stderr",
     "output_type": "stream",
     "text": [
      "Ran 24 tests in 65.291s\n",
      "\n",
      "OK (skipped=1)\n"
     ]
    }
   ],
   "source": [
    "VERIFICATION_SCRIPT = os.path.join('models', 'research', 'object_detection', 'builders', 'model_builder_tf2_test.py')\n",
    "# Verify Installation\n",
    "!python {VERIFICATION_SCRIPT}"
   ]
  },
  {
   "cell_type": "code",
   "execution_count": null,
   "metadata": {},
   "outputs": [],
   "source": [
    "!pip install pyparsing==2.4.2"
   ]
  },
  {
   "cell_type": "code",
   "execution_count": 40,
   "metadata": {},
   "outputs": [],
   "source": [
    "import object_detection"
   ]
  },
  {
   "cell_type": "code",
   "execution_count": 41,
   "metadata": {},
   "outputs": [],
   "source": [
    "pretrained_model_folder = os.path.join('pretrained_model')\n",
    "pretrained_model_url = 'http://download.tensorflow.org/models/object_detection/tf2/20200711/ssd_mobilenet_v2_fpnlite_320x320_coco17_tpu-8.tar.gz'\n",
    "pretrained_model_name= 'ssd_mobilenet_v2_fpnlite_320x320_coco17_tpu-8'"
   ]
  },
  {
   "cell_type": "code",
   "execution_count": 42,
   "metadata": {},
   "outputs": [],
   "source": [
    "if not os.path.exists(pretrained_model_folder):\n",
    "    !mkdir {pretrained_model_folder}\n",
    "    wget.download(pretrained_model_url)\n",
    "    !move {'ssd_mobilenet_v2_fpnlite_320x320_coco17_tpu-8'+'.tar.gz'} {pretrained_model_folder}\n",
    "    !cd {pretrained_model_folder} && tar -zxvf {'ssd_mobilenet_v2_fpnlite_320x320_coco17_tpu-8'+'.tar.gz'}"
   ]
  },
  {
   "cell_type": "code",
   "execution_count": 43,
   "metadata": {},
   "outputs": [],
   "source": [
    "label_map_name = 'label_map.pbtxt'\n",
    "label_map_path = os.path.join('annotations')\n",
    "if not os.path.exists(label_map_path):\n",
    "    !mkdir {label_map_path}"
   ]
  },
  {
   "cell_type": "code",
   "execution_count": 44,
   "metadata": {},
   "outputs": [],
   "source": [
    "labels= [{'name': 'Paper', 'id':1}, {'name': 'Smile', 'id':2}, \n",
    "         {'name': 'Scissors', 'id':3}]"
   ]
  },
  {
   "cell_type": "code",
   "execution_count": 45,
   "metadata": {},
   "outputs": [],
   "source": [
    "#creating labels file \n",
    "\n",
    "with open(os.path.join(label_map_path,label_map_name), 'w') as f:\n",
    "    for label in labels:\n",
    "        f.write('item {\\n')\n",
    "        f.write('\\tname:\\'{}\\'\\n'.format(label['name']))\n",
    "        f.write('\\tid:{}\\n'.format(label['id']))\n",
    "        f.write('}\\n')"
   ]
  },
  {
   "cell_type": "code",
   "execution_count": null,
   "metadata": {
    "scrolled": true
   },
   "outputs": [],
   "source": [
    "# unzip the images and the annotations\n",
    "# if running on colab\n",
    "\n",
    "archive_file = os.path.join(image path,'archive.tar.gz')\n",
    "if os.path.exists(archive_file):\n",
    "    !tar -zxvf {archive_file}"
   ]
  },
  {
   "cell_type": "code",
   "execution_count": 46,
   "metadata": {},
   "outputs": [],
   "source": [
    "tfrecord_path= os.path.join('tfrecord_script')"
   ]
  },
  {
   "cell_type": "code",
   "execution_count": null,
   "metadata": {},
   "outputs": [],
   "source": [
    "# !git clone https://github.com/nicknochnack/GenerateTFRecord {tfrecord_path}"
   ]
  },
  {
   "cell_type": "code",
   "execution_count": 47,
   "metadata": {},
   "outputs": [
    {
     "name": "stdout",
     "output_type": "stream",
     "text": [
      "Successfully created the TFRecord file: annotations\\train.record\n",
      "Successfully created the TFRecord file: annotations\\test.record\n"
     ]
    }
   ],
   "source": [
    "#creating tfrecord file for test and train\n",
    "\n",
    "!python {os.path.join('tfrecord_script','generate_tfrecord.py')} -x {os.path.join('images', 'train')} -l {os.path.join(label_map_path,label_map_name)} -o {os.path.join('annotations', 'train.record')} \n",
    "!python {os.path.join('tfrecord_script','generate_tfrecord.py')} -x {os.path.join('images', 'test')} -l {os.path.join(label_map_path,label_map_name)} -o {os.path.join('annotations', 'test.record')}"
   ]
  },
  {
   "cell_type": "code",
   "execution_count": 48,
   "metadata": {},
   "outputs": [
    {
     "name": "stdout",
     "output_type": "stream",
     "text": [
      "        1 file(s) copied.\n"
     ]
    }
   ],
   "source": [
    "#creating our custom object detection model using pretrained model\n",
    "import os\n",
    "custom_model= os.path.join('custom_model','custom_ssd_mobile')\n",
    "if not os.path.exists(custom_model):\n",
    "    !mkdir {custom_model}\n",
    "!copy {os.path.join(pretrained_model_folder, pretrained_model_name, 'pipeline.config')} {os.path.join(custom_model)}"
   ]
  },
  {
   "cell_type": "code",
   "execution_count": 49,
   "metadata": {},
   "outputs": [],
   "source": [
    "# update config for transfer learning\n",
    "import tensorflow as tf\n",
    "from object_detection.utils import config_util\n",
    "from object_detection.protos import pipeline_pb2\n",
    "from google.protobuf import text_format"
   ]
  },
  {
   "cell_type": "code",
   "execution_count": 50,
   "metadata": {},
   "outputs": [],
   "source": [
    "pipeline_config = pipeline_pb2.TrainEvalPipelineConfig()\n",
    "with tf.io.gfile.GFile(os.path.join('custom_model', 'custom_ssd_mobile' , 'pipeline.config'), \"r\") as f:                                                                                                                                                                                                                     \n",
    "    proto_str = f.read()\n",
    "    text_format.Merge(proto_str, pipeline_config)  "
   ]
  },
  {
   "cell_type": "code",
   "execution_count": 51,
   "metadata": {},
   "outputs": [],
   "source": [
    "## fine tuning the model by updating the pipeline config according to our model\n",
    "\n",
    "pipeline_config.model.ssd.num_classes = len(labels)\n",
    "pipeline_config.train_config.batch_size = 4\n",
    "pipeline_config.train_config.fine_tune_checkpoint = os.path.join(pretrained_model_folder, pretrained_model_name, 'checkpoint', 'ckpt-0')\n",
    "pipeline_config.train_config.fine_tune_checkpoint_type = \"detection\"\n",
    "pipeline_config.train_input_reader.label_map_path= os.path.join('annotations', label_map_name)\n",
    "pipeline_config.train_input_reader.tf_record_input_reader.input_path[:] = [os.path.join('annotations', 'train.record')]\n",
    "pipeline_config.eval_input_reader[0].label_map_path = os.path.join('annotations', label_map_name)\n",
    "pipeline_config.eval_input_reader[0].tf_record_input_reader.input_path[:] = [os.path.join('annotations', 'test.record')]\n"
   ]
  },
  {
   "cell_type": "code",
   "execution_count": 52,
   "metadata": {},
   "outputs": [],
   "source": [
    "config_text = text_format.MessageToString(pipeline_config) \n",
    "with tf.io.gfile.GFile(os.path.join('custom_model', 'custom_ssd_mobile' , 'pipeline.config'), \"wb\") as f:                                                                                                                                                                                                                     \n",
    "    f.write(config_text) "
   ]
  },
  {
   "cell_type": "code",
   "execution_count": 53,
   "metadata": {},
   "outputs": [],
   "source": [
    "config = config_util.get_configs_from_pipeline_file(os.path.join('custom_model', 'custom_ssd_mobile' , 'pipeline.config'))"
   ]
  },
  {
   "cell_type": "code",
   "execution_count": 34,
   "metadata": {
    "collapsed": true
   },
   "outputs": [
    {
     "data": {
      "text/plain": [
       "{'model': ssd {\n",
       "   num_classes: 3\n",
       "   image_resizer {\n",
       "     fixed_shape_resizer {\n",
       "       height: 320\n",
       "       width: 320\n",
       "     }\n",
       "   }\n",
       "   feature_extractor {\n",
       "     type: \"ssd_mobilenet_v2_fpn_keras\"\n",
       "     depth_multiplier: 1.0\n",
       "     min_depth: 16\n",
       "     conv_hyperparams {\n",
       "       regularizer {\n",
       "         l2_regularizer {\n",
       "           weight: 3.9999998989515007e-05\n",
       "         }\n",
       "       }\n",
       "       initializer {\n",
       "         random_normal_initializer {\n",
       "           mean: 0.0\n",
       "           stddev: 0.009999999776482582\n",
       "         }\n",
       "       }\n",
       "       activation: RELU_6\n",
       "       batch_norm {\n",
       "         decay: 0.996999979019165\n",
       "         scale: true\n",
       "         epsilon: 0.0010000000474974513\n",
       "       }\n",
       "     }\n",
       "     use_depthwise: true\n",
       "     override_base_feature_extractor_hyperparams: true\n",
       "     fpn {\n",
       "       min_level: 3\n",
       "       max_level: 7\n",
       "       additional_layer_depth: 128\n",
       "     }\n",
       "   }\n",
       "   box_coder {\n",
       "     faster_rcnn_box_coder {\n",
       "       y_scale: 10.0\n",
       "       x_scale: 10.0\n",
       "       height_scale: 5.0\n",
       "       width_scale: 5.0\n",
       "     }\n",
       "   }\n",
       "   matcher {\n",
       "     argmax_matcher {\n",
       "       matched_threshold: 0.5\n",
       "       unmatched_threshold: 0.5\n",
       "       ignore_thresholds: false\n",
       "       negatives_lower_than_unmatched: true\n",
       "       force_match_for_each_row: true\n",
       "       use_matmul_gather: true\n",
       "     }\n",
       "   }\n",
       "   similarity_calculator {\n",
       "     iou_similarity {\n",
       "     }\n",
       "   }\n",
       "   box_predictor {\n",
       "     weight_shared_convolutional_box_predictor {\n",
       "       conv_hyperparams {\n",
       "         regularizer {\n",
       "           l2_regularizer {\n",
       "             weight: 3.9999998989515007e-05\n",
       "           }\n",
       "         }\n",
       "         initializer {\n",
       "           random_normal_initializer {\n",
       "             mean: 0.0\n",
       "             stddev: 0.009999999776482582\n",
       "           }\n",
       "         }\n",
       "         activation: RELU_6\n",
       "         batch_norm {\n",
       "           decay: 0.996999979019165\n",
       "           scale: true\n",
       "           epsilon: 0.0010000000474974513\n",
       "         }\n",
       "       }\n",
       "       depth: 128\n",
       "       num_layers_before_predictor: 4\n",
       "       kernel_size: 3\n",
       "       class_prediction_bias_init: -4.599999904632568\n",
       "       share_prediction_tower: true\n",
       "       use_depthwise: true\n",
       "     }\n",
       "   }\n",
       "   anchor_generator {\n",
       "     multiscale_anchor_generator {\n",
       "       min_level: 3\n",
       "       max_level: 7\n",
       "       anchor_scale: 4.0\n",
       "       aspect_ratios: 1.0\n",
       "       aspect_ratios: 2.0\n",
       "       aspect_ratios: 0.5\n",
       "       scales_per_octave: 2\n",
       "     }\n",
       "   }\n",
       "   post_processing {\n",
       "     batch_non_max_suppression {\n",
       "       score_threshold: 9.99999993922529e-09\n",
       "       iou_threshold: 0.6000000238418579\n",
       "       max_detections_per_class: 100\n",
       "       max_total_detections: 100\n",
       "       use_static_shapes: false\n",
       "     }\n",
       "     score_converter: SIGMOID\n",
       "   }\n",
       "   normalize_loss_by_num_matches: true\n",
       "   loss {\n",
       "     localization_loss {\n",
       "       weighted_smooth_l1 {\n",
       "       }\n",
       "     }\n",
       "     classification_loss {\n",
       "       weighted_sigmoid_focal {\n",
       "         gamma: 2.0\n",
       "         alpha: 0.25\n",
       "       }\n",
       "     }\n",
       "     classification_weight: 1.0\n",
       "     localization_weight: 1.0\n",
       "   }\n",
       "   encode_background_as_zeros: true\n",
       "   normalize_loc_loss_by_codesize: true\n",
       "   inplace_batchnorm_update: true\n",
       "   freeze_batchnorm: false\n",
       " },\n",
       " 'train_config': batch_size: 4\n",
       " data_augmentation_options {\n",
       "   random_horizontal_flip {\n",
       "   }\n",
       " }\n",
       " data_augmentation_options {\n",
       "   random_crop_image {\n",
       "     min_object_covered: 0.0\n",
       "     min_aspect_ratio: 0.75\n",
       "     max_aspect_ratio: 3.0\n",
       "     min_area: 0.75\n",
       "     max_area: 1.0\n",
       "     overlap_thresh: 0.0\n",
       "   }\n",
       " }\n",
       " sync_replicas: true\n",
       " optimizer {\n",
       "   momentum_optimizer {\n",
       "     learning_rate {\n",
       "       cosine_decay_learning_rate {\n",
       "         learning_rate_base: 0.07999999821186066\n",
       "         total_steps: 50000\n",
       "         warmup_learning_rate: 0.026666000485420227\n",
       "         warmup_steps: 1000\n",
       "       }\n",
       "     }\n",
       "     momentum_optimizer_value: 0.8999999761581421\n",
       "   }\n",
       "   use_moving_average: false\n",
       " }\n",
       " fine_tune_checkpoint: \"pretrained_model\\\\ssd_mobilenet_v2_fpnlite_320x320_coco17_tpu-8\\\\checkpoint\\\\ckpt-0\"\n",
       " num_steps: 50000\n",
       " startup_delay_steps: 0.0\n",
       " replicas_to_aggregate: 8\n",
       " max_number_of_boxes: 100\n",
       " unpad_groundtruth_tensors: false\n",
       " fine_tune_checkpoint_type: \"detection\"\n",
       " fine_tune_checkpoint_version: V2,\n",
       " 'train_input_config': label_map_path: \"annotations\\\\label_map.pbtxt\"\n",
       " tf_record_input_reader {\n",
       "   input_path: \"annotations\\\\train.record\"\n",
       " },\n",
       " 'eval_config': metrics_set: \"coco_detection_metrics\"\n",
       " use_moving_averages: false,\n",
       " 'eval_input_configs': [label_map_path: \"annotations\\\\label_map.pbtxt\"\n",
       " shuffle: false\n",
       " num_epochs: 1\n",
       " tf_record_input_reader {\n",
       "   input_path: \"annotations\\\\test.record\"\n",
       " }\n",
       " ],\n",
       " 'eval_input_config': label_map_path: \"annotations\\\\label_map.pbtxt\"\n",
       " shuffle: false\n",
       " num_epochs: 1\n",
       " tf_record_input_reader {\n",
       "   input_path: \"annotations\\\\test.record\"\n",
       " }}"
      ]
     },
     "execution_count": 34,
     "metadata": {},
     "output_type": "execute_result"
    }
   ],
   "source": [
    "config"
   ]
  },
  {
   "cell_type": "code",
   "execution_count": 54,
   "metadata": {},
   "outputs": [],
   "source": [
    "# training model\n",
    "training_path = os.path.join('models', 'research', 'object_detection', 'model_main_tf2.py')"
   ]
  },
  {
   "cell_type": "code",
   "execution_count": 55,
   "metadata": {},
   "outputs": [],
   "source": [
    "pipeline_path= os.path.join('custom_model', 'custom_ssd_mobile' , 'pipeline.config')"
   ]
  },
  {
   "cell_type": "code",
   "execution_count": 56,
   "metadata": {},
   "outputs": [],
   "source": [
    "command_train = \"python {} --model_dir={} --pipeline_config_path={} --num_train_steps=3000\".format(training_path, custom_model,pipeline_path)"
   ]
  },
  {
   "cell_type": "code",
   "execution_count": 57,
   "metadata": {},
   "outputs": [
    {
     "name": "stdout",
     "output_type": "stream",
     "text": [
      "python models\\research\\object_detection\\model_main_tf2.py --model_dir=custom_model\\custom_ssd_mobile --pipeline_config_path=custom_model\\custom_ssd_mobile\\pipeline.config --num_train_steps=3000\n"
     ]
    }
   ],
   "source": [
    "print(command_train)\n",
    "## print this command in cmd"
   ]
  },
  {
   "cell_type": "code",
   "execution_count": null,
   "metadata": {},
   "outputs": [],
   "source": [
    "## ERROR ##\n",
    "    #ValueError: numpy.ndarray size changed, may indicate binary incompatibility. Expected 88 from C header, got 80 from PyObject\n",
    "\n",
    "### solution ###\n",
    "    #pip uninstall pycocotools -y\n",
    "    #pip installl pycocotools"
   ]
  },
  {
   "cell_type": "code",
   "execution_count": null,
   "metadata": {},
   "outputs": [],
   "source": [
    "#evaluating model\n",
    "command_evaluate = \"python {} --model_dir={} --pipeline_config_path={} --checkpoint_dir={}\".format(training_path, custom_model,pipeline_path, custom_model)"
   ]
  },
  {
   "cell_type": "code",
   "execution_count": null,
   "metadata": {},
   "outputs": [],
   "source": [
    "print(command_evaluate)"
   ]
  },
  {
   "cell_type": "code",
   "execution_count": 58,
   "metadata": {},
   "outputs": [],
   "source": [
    "### load train model from checkpoint\n",
    "import os\n",
    "import tensorflow as tf\n",
    "from object_detection.utils import label_map_util\n",
    "from object_detection.utils import visualization_utils as viz_utils\n",
    "from object_detection.builders import model_builder"
   ]
  },
  {
   "cell_type": "code",
   "execution_count": 60,
   "metadata": {},
   "outputs": [],
   "source": [
    "# Load pipeline config and build a detection model\n",
    "configs = config_util.get_configs_from_pipeline_file(pipeline_path)      #modifying pipeline.config file according to objects\n",
    "detection_model = model_builder.build(model_config=configs['model'], is_training=False)\n",
    "\n",
    "# Restore checkpoint\n",
    "ckpt = tf.compat.v2.train.Checkpoint(model=detection_model)\n",
    "ckpt.restore(os.path.join(custom_model, 'ckpt-4')).expect_partial()   # select the latest checkpoint\n",
    "\n",
    "@tf.function   # to leverage the tensorflow graph\n",
    "def detect_fn(image):\n",
    "    image, shapes = detection_model.preprocess(image)\n",
    "    \n",
    "    \n",
    "    prediction_dict = detection_model.predict(image, shapes)\n",
    "    \n",
    "    \n",
    "    detections = detection_model.postprocess(prediction_dict, shapes)\n",
    "    return detections\n"
   ]
  },
  {
   "cell_type": "code",
   "execution_count": 61,
   "metadata": {},
   "outputs": [],
   "source": [
    "### detecting from an image\n",
    "import cv2\n",
    "import numpy as np, matplotlib.pyplot as plt\n",
    "%matplotlib inline"
   ]
  },
  {
   "cell_type": "code",
   "execution_count": 63,
   "metadata": {},
   "outputs": [],
   "source": [
    "category_index = label_map_util.create_category_index_from_labelmap(os.path.join('annotations', 'label_map.pbtxt'))"
   ]
  },
  {
   "cell_type": "code",
   "execution_count": 24,
   "metadata": {},
   "outputs": [],
   "source": [
    "image_path = os.path.join('images', 'test', 'Paper1310b24aa-5bd4-11ec-b8dd-00f48d43601e.jpg')"
   ]
  },
  {
   "cell_type": "code",
   "execution_count": null,
   "metadata": {},
   "outputs": [],
   "source": [
    "img = cv2.imread(image_path)\n",
    "img_np = np.array(img)\n",
    "\n",
    "img_tensor = tf.convert_to_tensor(np.expand_dims(img_np, 0), dtype = tf.float32)\n",
    "detections = detect_fn(img_tensor)\n",
    "\n",
    "num_detections = int(detections.pop('num_detections'))\n",
    "detections = {key: value[0, :num_detections].numpy()     #selecting the keys and 100 values from each key in the detections dict\n",
    "             for key, value in detections.items()}\n",
    "detections['num_detections'] = num_detections    #adding num_detection keu to the detections dict\n",
    "\n",
    "# detection_classes should be ints.\n",
    "detections['detection_classes']= detections['detection_classes'].astype(np.int64)\n",
    "\n",
    "label_id_offset = 1\n",
    "img_np_with_detection = img_np.copy()    # copying the image array\n",
    "\n",
    "viz_utils.visualize_boxes_and_labels_on_image_array(\n",
    "            img_np_with_detection,\n",
    "            detections['detection_boxes'],\n",
    "            detections['detection_classes']+label_id_offset,\n",
    "            detections['detection_scores'],\n",
    "            category_index,\n",
    "            use_normalized_coordinates=True,\n",
    "            max_boxes_to_draw=5,\n",
    "            min_score_thresh=.8,\n",
    "            agnostic_mode=False)\n",
    "\n",
    "plt.imshow(cv2.cvtColor(img_np_with_detection, cv2.COLOR_BGR2RGB))   # converting color of image to rgb bkz opencv converts img to bgr\n",
    "plt.show()"
   ]
  },
  {
   "cell_type": "code",
   "execution_count": 29,
   "metadata": {
    "scrolled": true
   },
   "outputs": [
    {
     "name": "stdout",
     "output_type": "stream",
     "text": [
      "{1: {'id': 1, 'name': 'Paper'}, 2: {'id': 2, 'name': 'Sameer'}, 3: {'id': 3, 'name': 'Scissors'}, 4: {'id': 4, 'name': 'Stone'}}\n"
     ]
    }
   ],
   "source": [
    "print(category_index)"
   ]
  },
  {
   "cell_type": "code",
   "execution_count": 64,
   "metadata": {},
   "outputs": [],
   "source": [
    "cap = cv2.VideoCapture(0)\n",
    "width = int(cap.get(cv2.CAP_PROP_FRAME_WIDTH))\n",
    "height = int(cap.get(cv2.CAP_PROP_FRAME_HEIGHT))\n",
    "\n",
    "while cap.isOpened(): \n",
    "    ret, frame = cap.read()\n",
    "    image_np = np.array(frame)\n",
    "    \n",
    "    input_tensor = tf.convert_to_tensor(np.expand_dims(image_np, 0), dtype=tf.float32)\n",
    "    detections = detect_fn(input_tensor)\n",
    "    \n",
    "    num_detections = int(detections.pop('num_detections'))\n",
    "    detections = {key: value[0, :num_detections].numpy()\n",
    "                  for key, value in detections.items()}\n",
    "    detections['num_detections'] = num_detections\n",
    "\n",
    "    # detection_classes should be ints.\n",
    "    detections['detection_classes'] = detections['detection_classes'].astype(np.int64)\n",
    "\n",
    "    label_id_offset = 1\n",
    "    image_np_with_detections = image_np.copy()\n",
    "\n",
    "    viz_utils.visualize_boxes_and_labels_on_image_array(\n",
    "                image_np_with_detections,\n",
    "                detections['detection_boxes'],\n",
    "                detections['detection_classes']+label_id_offset,\n",
    "                detections['detection_scores'],\n",
    "                category_index,\n",
    "                use_normalized_coordinates=True,\n",
    "                max_boxes_to_draw=5,\n",
    "                min_score_thresh=.8,\n",
    "                agnostic_mode=False)\n",
    "\n",
    "    cv2.imshow('object detection',  cv2.resize(image_np_with_detections, (800, 600)))\n",
    "    \n",
    "    if cv2.waitKey(10) & 0xFF == ord('q'):\n",
    "        cap.release()\n",
    "        cv2.destroyAllWindows() \n",
    "        break\n",
    "       "
   ]
  },
  {
   "cell_type": "markdown",
   "metadata": {},
   "source": [
    "## SAVING TRAINED MODEL"
   ]
  },
  {
   "cell_type": "markdown",
   "metadata": {},
   "source": [
    "##### Can be used to share pretrained model"
   ]
  },
  {
   "cell_type": "code",
   "execution_count": 65,
   "metadata": {},
   "outputs": [],
   "source": [
    "freeze_script = os.path.join('models', 'research', 'object_detection', 'exporter_main_v2.py ')"
   ]
  },
  {
   "cell_type": "code",
   "execution_count": 66,
   "metadata": {},
   "outputs": [],
   "source": [
    "output_path= os.path.join('custom_model', 'custom_ssd_mobile', 'export') #my trained model to share"
   ]
  },
  {
   "cell_type": "code",
   "execution_count": 67,
   "metadata": {},
   "outputs": [],
   "source": [
    "command_freeze = \"python {} --input_type=image_tensor --pipeline_config_path={} --trained_checkpoint_dir={} --output_directory={}\".format(freeze_script ,pipeline_path, custom_model, output_path)"
   ]
  },
  {
   "cell_type": "code",
   "execution_count": 68,
   "metadata": {},
   "outputs": [
    {
     "name": "stdout",
     "output_type": "stream",
     "text": [
      "python models\\research\\object_detection\\exporter_main_v2.py  --input_type=image_tensor --pipeline_config_path=custom_model\\custom_ssd_mobile\\pipeline.config --trained_checkpoint_dir=custom_model\\custom_ssd_mobile --output_directory=custom_model\\custom_ssd_mobile\\export\n"
     ]
    }
   ],
   "source": [
    "print(command_freeze)"
   ]
  }
 ],
 "metadata": {
  "interpreter": {
   "hash": "4dea29535e2824c950cc537cc792efd1dbf727be948deb6cf00ad2974bd4f2cf"
  },
  "kernelspec": {
   "display_name": "Python 3 (ipykernel)",
   "language": "python",
   "name": "python3"
  },
  "language_info": {
   "codemirror_mode": {
    "name": "ipython",
    "version": 3
   },
   "file_extension": ".py",
   "mimetype": "text/x-python",
   "name": "python",
   "nbconvert_exporter": "python",
   "pygments_lexer": "ipython3",
   "version": "3.9.7"
  }
 },
 "nbformat": 4,
 "nbformat_minor": 2
}
