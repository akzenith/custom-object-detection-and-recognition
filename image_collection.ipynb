{
 "cells": [
  {
   "cell_type": "code",
   "execution_count": 1,
   "metadata": {},
   "outputs": [
    {
     "name": "stdout",
     "output_type": "stream",
     "text": [
      "Collecting opencv-python\n",
      "  Downloading opencv_python-4.5.4.60-cp36-cp36m-win_amd64.whl (35.1 MB)\n",
      "Collecting numpy>=1.13.3\n",
      "  Using cached numpy-1.19.5-cp36-cp36m-win_amd64.whl (13.2 MB)\n",
      "Installing collected packages: numpy, opencv-python\n",
      "Successfully installed numpy-1.19.5 opencv-python-4.5.4.60\n"
     ]
    }
   ],
   "source": [
    "!pip install opencv-python"
   ]
  },
  {
   "cell_type": "code",
   "execution_count": 1,
   "metadata": {},
   "outputs": [],
   "source": [
    "# import opencv\n",
    "import cv2\n",
    "\n",
    "# lib to access files paths\n",
    "import os\n",
    "\n",
    "# import a library to give unique ids to the images\n",
    "import uuid\n",
    "\n",
    "# to check the runtime\n",
    "import time"
   ]
  },
  {
   "cell_type": "markdown",
   "metadata": {},
   "source": [
    "# DEFINE IMAGES TO COLLECT\n"
   ]
  },
  {
   "cell_type": "code",
   "execution_count": 3,
   "metadata": {},
   "outputs": [],
   "source": [
    "labels= ['Stone', 'Paper', 'Scissors', 'Sameer']\n",
    "num_of_images= 7"
   ]
  },
  {
   "cell_type": "markdown",
   "metadata": {},
   "source": [
    "# Setup File path"
   ]
  },
  {
   "cell_type": "code",
   "execution_count": 4,
   "metadata": {},
   "outputs": [
    {
     "data": {
      "text/plain": [
       "'nt'"
      ]
     },
     "execution_count": 4,
     "metadata": {},
     "output_type": "execute_result"
    }
   ],
   "source": [
    "os.name  #checking the OS we are working on ... 'nt' mean 'Windows'"
   ]
  },
  {
   "cell_type": "code",
   "execution_count": 2,
   "metadata": {},
   "outputs": [],
   "source": [
    "image_path = os.path.join('images', 'collected_images')"
   ]
  },
  {
   "cell_type": "code",
   "execution_count": 7,
   "metadata": {},
   "outputs": [],
   "source": [
    "if not os.path.exists(image_path):\n",
    "    if os.name=='nt' :\n",
    "        !mkdir {image_path}   #if folder not created using 'os' method then use cmd.\n",
    "\n",
    "for label in labels:\n",
    "    path = os.path.join(image_path, label)\n",
    "    if not os.path.exists(path):\n",
    "        !mkdir {path}"
   ]
  },
  {
   "cell_type": "code",
   "execution_count": 15,
   "metadata": {},
   "outputs": [
    {
     "name": "stdout",
     "output_type": "stream",
     "text": [
      "Collecting images for Stone\n",
      "Collecting image number 0\n",
      "Collecting image number 1\n",
      "Collecting image number 2\n",
      "Collecting image number 3\n",
      "Collecting image number 4\n",
      "Collecting image number 5\n",
      "Collecting image number 6\n",
      "Collecting images for Paper\n",
      "Collecting image number 0\n",
      "Collecting image number 1\n",
      "Collecting image number 2\n",
      "Collecting image number 3\n",
      "Collecting image number 4\n",
      "Collecting image number 5\n",
      "Collecting image number 6\n",
      "Collecting images for Scissors\n",
      "Collecting image number 0\n",
      "Collecting image number 1\n",
      "Collecting image number 2\n",
      "Collecting image number 3\n",
      "Collecting image number 4\n",
      "Collecting image number 5\n",
      "Collecting image number 6\n",
      "Collecting images for Sameer\n",
      "Collecting image number 0\n",
      "Collecting image number 1\n",
      "Collecting image number 2\n",
      "Collecting image number 3\n",
      "Collecting image number 4\n",
      "Collecting image number 5\n",
      "Collecting image number 6\n"
     ]
    }
   ],
   "source": [
    "for label in labels:\n",
    "    cam = cv2.VideoCapture(0)    #accessing webcam\n",
    "    print('Collecting images for {}'.format(label))\n",
    "    time.sleep(5)\n",
    "    \n",
    "    for i in range(num_of_images):\n",
    "        print('Collecting image number {}'.format(i))\n",
    "        ret, frame = cam.read()\n",
    "        img_save_path = os.path.join(image_path, label, label+str(i)+'{}.jpg'.format(str(uuid.uuid1())))\n",
    "        \n",
    "        cv2.imwrite(img_save_path, frame)\n",
    "        cv2.imshow('Caputre Images', frame)\n",
    "        time.sleep(2)\n",
    "        \n",
    "        if cv2.waitKey(1) & 0xFF == ord('q'):\n",
    "            break\n",
    "\n",
    "cam.release()\n",
    "cv2.destroyAllWindows()"
   ]
  },
  {
   "cell_type": "code",
   "execution_count": 16,
   "metadata": {},
   "outputs": [
    {
     "name": "stdout",
     "output_type": "stream",
     "text": [
      "Collecting pyqt5\n",
      "  Downloading PyQt5-5.15.6-cp36-abi3-win_amd64.whl (6.7 MB)\n",
      "Collecting lxml\n",
      "  Downloading lxml-4.6.4-cp36-cp36m-win_amd64.whl (3.5 MB)\n",
      "Collecting PyQt5-Qt5>=5.15.2\n",
      "  Downloading PyQt5_Qt5-5.15.2-py3-none-win_amd64.whl (50.1 MB)\n",
      "Collecting PyQt5-sip<13,>=12.8\n",
      "  Downloading PyQt5_sip-12.9.0-cp36-cp36m-win_amd64.whl (62 kB)\n",
      "Installing collected packages: PyQt5-sip, PyQt5-Qt5, pyqt5, lxml\n",
      "Successfully installed PyQt5-Qt5-5.15.2 PyQt5-sip-12.9.0 lxml-4.6.4 pyqt5-5.15.6\n"
     ]
    }
   ],
   "source": [
    "!pip install --upgrade pyqt5 lxml"
   ]
  },
  {
   "cell_type": "code",
   "execution_count": 2,
   "metadata": {},
   "outputs": [],
   "source": [
    "label_path = os.path.join('labelling')"
   ]
  },
  {
   "cell_type": "code",
   "execution_count": 3,
   "metadata": {},
   "outputs": [
    {
     "name": "stderr",
     "output_type": "stream",
     "text": [
      "Cloning into 'labelling'...\n"
     ]
    }
   ],
   "source": [
    "if not os.path.exists(label_path):\n",
    "    !mkdir {label_path}\n",
    "    !git clone https://github.com/tzutalin/labelImg {label_path}"
   ]
  },
  {
   "cell_type": "code",
   "execution_count": 4,
   "metadata": {},
   "outputs": [],
   "source": [
    "# installing label image\n",
    "!cd {label_path} && pyrcc5 -o libs/resources.py resources.qrc"
   ]
  },
  {
   "cell_type": "code",
   "execution_count": 5,
   "metadata": {},
   "outputs": [
    {
     "name": "stdout",
     "output_type": "stream",
     "text": [
      "Cancel creation.\n",
      "Cancel creation.\n",
      "Image:G:\\object_detection\\images\\collected_images\\Paper\\Paper0d78802a2-4eac-11ec-8e20-00f48d43601e.jpg -> Annotation:G:/object_detection/images/collected_images/Paper/Paper0d78802a2-4eac-11ec-8e20-00f48d43601e.xml\n",
      "Image:G:\\object_detection\\images\\collected_images\\Paper\\Paper1d8bbea46-4eac-11ec-ac09-00f48d43601e.jpg -> Annotation:G:/object_detection/images/collected_images/Paper/Paper1d8bbea46-4eac-11ec-ac09-00f48d43601e.xml\n",
      "Image:G:\\object_detection\\images\\collected_images\\Paper\\Paper2d9f111a4-4eac-11ec-938c-00f48d43601e.jpg -> Annotation:G:/object_detection/images/collected_images/Paper/Paper2d9f111a4-4eac-11ec-938c-00f48d43601e.xml\n",
      "Image:G:\\object_detection\\images\\collected_images\\Paper\\Paper3db263694-4eac-11ec-ba49-00f48d43601e.jpg -> Annotation:G:/object_detection/images/collected_images/Paper/Paper3db263694-4eac-11ec-ba49-00f48d43601e.xml\n",
      "Image:G:\\object_detection\\images\\collected_images\\Paper\\Paper4dc5d1d4a-4eac-11ec-a5ea-00f48d43601e.jpg -> Annotation:G:/object_detection/images/collected_images/Paper/Paper4dc5d1d4a-4eac-11ec-a5ea-00f48d43601e.xml\n",
      "Image:G:\\object_detection\\images\\collected_images\\Paper\\Paper5dd929570-4eac-11ec-b5b2-00f48d43601e.jpg -> Annotation:G:/object_detection/images/collected_images/Paper/Paper5dd929570-4eac-11ec-b5b2-00f48d43601e.xml\n",
      "Image:G:\\object_detection\\images\\collected_images\\Paper\\Paper6dec5dfc8-4eac-11ec-b825-00f48d43601e.jpg -> Annotation:G:/object_detection/images/collected_images/Paper/Paper6dec5dfc8-4eac-11ec-b825-00f48d43601e.xml\n",
      "Image:G:\\object_detection\\images\\collected_images\\Sameer\\Sameer0f29dd392-4eac-11ec-9192-00f48d43601e.jpg -> Annotation:G:/object_detection/images/collected_images/Sameer/Sameer0f29dd392-4eac-11ec-9192-00f48d43601e.xml\n",
      "Image:G:\\object_detection\\images\\collected_images\\Sameer\\Sameer0f29dd392-4eac-11ec-9192-00f48d43601e.jpg -> Annotation:G:/object_detection/images/collected_images/Sameer/Sameer0f29dd392-4eac-11ec-9192-00f48d43601e.xml\n",
      "Image:G:\\object_detection\\images\\collected_images\\Sameer\\Sameer1f3d1f50c-4eac-11ec-b854-00f48d43601e.jpg -> Annotation:G:/object_detection/images/collected_images/Sameer/Sameer1f3d1f50c-4eac-11ec-b854-00f48d43601e.xml\n",
      "Image:G:\\object_detection\\images\\collected_images\\Sameer\\Sameer2f5077c26-4eac-11ec-9981-00f48d43601e.jpg -> Annotation:G:/object_detection/images/collected_images/Sameer/Sameer2f5077c26-4eac-11ec-9981-00f48d43601e.xml\n",
      "Image:G:\\object_detection\\images\\collected_images\\Sameer\\Sameer3f63c7080-4eac-11ec-b815-00f48d43601e.jpg -> Annotation:G:/object_detection/images/collected_images/Sameer/Sameer3f63c7080-4eac-11ec-b815-00f48d43601e.xml\n",
      "Image:G:\\object_detection\\images\\collected_images\\Sameer\\Sameer4f76fd868-4eac-11ec-8250-00f48d43601e.jpg -> Annotation:G:/object_detection/images/collected_images/Sameer/Sameer4f76fd868-4eac-11ec-8250-00f48d43601e.xml\n",
      "Image:G:\\object_detection\\images\\collected_images\\Sameer\\Sameer5f8a41088-4eac-11ec-9fcd-00f48d43601e.jpg -> Annotation:G:/object_detection/images/collected_images/Sameer/Sameer5f8a41088-4eac-11ec-9fcd-00f48d43601e.xml\n",
      "Image:G:\\object_detection\\images\\collected_images\\Sameer\\Sameer6f9d784e8-4eac-11ec-9a4d-00f48d43601e.jpg -> Annotation:G:/object_detection/images/collected_images/Sameer/Sameer6f9d784e8-4eac-11ec-9a4d-00f48d43601e.xml\n",
      "Image:G:\\object_detection\\images\\collected_images\\Scissors\\Scissors0e512f646-4eac-11ec-b610-00f48d43601e.jpg -> Annotation:G:/object_detection/images/collected_images/Scissors/Scissors0e512f646-4eac-11ec-b610-00f48d43601e.xml\n",
      "Image:G:\\object_detection\\images\\collected_images\\Scissors\\Scissors1e647f780-4eac-11ec-b362-00f48d43601e.jpg -> Annotation:G:/object_detection/images/collected_images/Scissors/Scissors1e647f780-4eac-11ec-b362-00f48d43601e.xml\n",
      "Image:G:\\object_detection\\images\\collected_images\\Scissors\\Scissors2e77d9df6-4eac-11ec-b46f-00f48d43601e.jpg -> Annotation:G:/object_detection/images/collected_images/Scissors/Scissors2e77d9df6-4eac-11ec-b46f-00f48d43601e.xml\n",
      "Image:G:\\object_detection\\images\\collected_images\\Scissors\\Scissors3e8b1b812-4eac-11ec-b36b-00f48d43601e.jpg -> Annotation:G:/object_detection/images/collected_images/Scissors/Scissors3e8b1b812-4eac-11ec-b36b-00f48d43601e.xml\n",
      "Image:G:\\object_detection\\images\\collected_images\\Scissors\\Scissors4e9e6af36-4eac-11ec-8c04-00f48d43601e.jpg -> Annotation:G:/object_detection/images/collected_images/Scissors/Scissors4e9e6af36-4eac-11ec-8c04-00f48d43601e.xml\n",
      "Image:G:\\object_detection\\images\\collected_images\\Scissors\\Scissors5eb1ada9a-4eac-11ec-953f-00f48d43601e.jpg -> Annotation:G:/object_detection/images/collected_images/Scissors/Scissors5eb1ada9a-4eac-11ec-953f-00f48d43601e.xml\n",
      "Image:G:\\object_detection\\images\\collected_images\\Scissors\\Scissors6ec509e1e-4eac-11ec-a0ef-00f48d43601e.jpg -> Annotation:G:/object_detection/images/collected_images/Scissors/Scissors6ec509e1e-4eac-11ec-a0ef-00f48d43601e.xml\n",
      "Image:G:\\object_detection\\images\\collected_images\\Stone\\Stone0c9f775fa-4eac-11ec-9696-00f48d43601e.jpg -> Annotation:G:/object_detection/images/collected_images/Stone/Stone0c9f775fa-4eac-11ec-9696-00f48d43601e.xml\n",
      "Image:G:\\object_detection\\images\\collected_images\\Stone\\Stone1cb375dd2-4eac-11ec-8103-00f48d43601e.jpg -> Annotation:G:/object_detection/images/collected_images/Stone/Stone1cb375dd2-4eac-11ec-8103-00f48d43601e.xml\n",
      "Image:G:\\object_detection\\images\\collected_images\\Stone\\Stone2cc6bf71e-4eac-11ec-af14-00f48d43601e.jpg -> Annotation:G:/object_detection/images/collected_images/Stone/Stone2cc6bf71e-4eac-11ec-af14-00f48d43601e.xml\n",
      "Image:G:\\object_detection\\images\\collected_images\\Stone\\Stone3cda22b9e-4eac-11ec-a80e-00f48d43601e.jpg -> Annotation:G:/object_detection/images/collected_images/Stone/Stone3cda22b9e-4eac-11ec-a80e-00f48d43601e.xml\n",
      "Image:G:\\object_detection\\images\\collected_images\\Stone\\Stone4ced6005c-4eac-11ec-b6d4-00f48d43601e.jpg -> Annotation:G:/object_detection/images/collected_images/Stone/Stone4ced6005c-4eac-11ec-b6d4-00f48d43601e.xml\n",
      "Image:G:\\object_detection\\images\\collected_images\\Stone\\Stone5d0098274-4eac-11ec-b5e9-00f48d43601e.jpg -> Annotation:G:/object_detection/images/collected_images/Stone/Stone5d0098274-4eac-11ec-b5e9-00f48d43601e.xml\n",
      "Image:G:\\object_detection\\images\\collected_images\\Stone\\Stone6d13cf906-4eac-11ec-a3de-00f48d43601e.jpg -> Annotation:G:/object_detection/images/collected_images/Stone/Stone6d13cf906-4eac-11ec-a3de-00f48d43601e.xml\n"
     ]
    }
   ],
   "source": [
    "# opening label image\n",
    "!cd {label_path} && python labelImg.py"
   ]
  },
  {
   "cell_type": "code",
   "execution_count": 3,
   "metadata": {},
   "outputs": [],
   "source": [
    "import plaidml.keras\n",
    "plaidml.keras.install_backend()\n",
    "os.environ['KERAS_BACKEND'] = 'plaidml.keras.backend'"
   ]
  },
  {
   "cell_type": "code",
   "execution_count": 4,
   "metadata": {},
   "outputs": [
    {
     "data": {
      "text/plain": [
       "<module 'plaidml.keras.backend' from 'G:\\\\object_detection\\\\objdetect\\\\lib\\\\site-packages\\\\plaidml\\\\keras\\\\backend.py'>"
      ]
     },
     "execution_count": 4,
     "metadata": {},
     "output_type": "execute_result"
    }
   ],
   "source": [
    "import keras\n",
    "import keras.backend as K\n",
    "\n",
    "K"
   ]
  },
  {
   "cell_type": "code",
   "execution_count": 5,
   "metadata": {},
   "outputs": [
    {
     "name": "stdout",
     "output_type": "stream",
     "text": [
      "1.15.5\n"
     ]
    }
   ],
   "source": [
    "import tensorflow as tf\n",
    "print(tf.__version__)"
   ]
  },
  {
   "cell_type": "code",
   "execution_count": 6,
   "metadata": {},
   "outputs": [
    {
     "data": {
      "text/plain": [
       "True"
      ]
     },
     "execution_count": 6,
     "metadata": {},
     "output_type": "execute_result"
    }
   ],
   "source": [
    "tf.test.is_gpu_available()"
   ]
  },
  {
   "cell_type": "code",
   "execution_count": null,
   "metadata": {},
   "outputs": [],
   "source": []
  }
 ],
 "metadata": {
  "kernelspec": {
   "display_name": "objdetect",
   "language": "python",
   "name": "objdetect"
  },
  "language_info": {
   "codemirror_mode": {
    "name": "ipython",
    "version": 3
   },
   "file_extension": ".py",
   "mimetype": "text/x-python",
   "name": "python",
   "nbconvert_exporter": "python",
   "pygments_lexer": "ipython3",
   "version": "3.6.5"
  }
 },
 "nbformat": 4,
 "nbformat_minor": 2
}
