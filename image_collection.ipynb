{
 "cells": [
  {
   "cell_type": "code",
   "execution_count": 1,
   "metadata": {
    "collapsed": true
   },
   "outputs": [
    {
     "name": "stdout",
     "output_type": "stream",
     "text": [
      "Requirement already satisfied: opencv-python in g:\\anaconda3\\lib\\site-packages\\opencv_python-4.5.4.60-py3.9-win-amd64.egg (4.5.4.60)"
     ]
    },
    {
     "name": "stderr",
     "output_type": "stream",
     "text": [
      "WARNING: Ignoring invalid distribution -illow (g:\\anaconda3\\lib\\site-packages)\n",
      "WARNING: Ignoring invalid distribution -ensorflow (g:\\anaconda3\\lib\\site-packages)\n",
      "WARNING: Ignoring invalid distribution -illow (g:\\anaconda3\\lib\\site-packages)\n",
      "WARNING: Ignoring invalid distribution -ensorflow (g:\\anaconda3\\lib\\site-packages)\n",
      "WARNING: Ignoring invalid distribution -illow (g:\\anaconda3\\lib\\site-packages)\n",
      "WARNING: Ignoring invalid distribution -ensorflow (g:\\anaconda3\\lib\\site-packages)\n",
      "WARNING: Ignoring invalid distribution -illow (g:\\anaconda3\\lib\\site-packages)\n",
      "WARNING: Ignoring invalid distribution -ensorflow (g:\\anaconda3\\lib\\site-packages)\n",
      "WARNING: Ignoring invalid distribution -illow (g:\\anaconda3\\lib\\site-packages)\n",
      "WARNING: Ignoring invalid distribution -ensorflow (g:\\anaconda3\\lib\\site-packages)\n",
      "WARNING: Ignoring invalid distribution -illow (g:\\anaconda3\\lib\\site-packages)\n",
      "WARNING: Ignoring invalid distribution -ensorflow (g:\\anaconda3\\lib\\site-packages)\n"
     ]
    },
    {
     "name": "stdout",
     "output_type": "stream",
     "text": [
      "\n",
      "Requirement already satisfied: numpy>=1.19.3 in g:\\anaconda3\\lib\\site-packages (from opencv-python) (1.19.5)\n"
     ]
    }
   ],
   "source": [
    "!pip install opencv-python"
   ]
  },
  {
   "cell_type": "code",
   "execution_count": 3,
   "metadata": {},
   "outputs": [],
   "source": [
    "# import opencv\n",
    "import cv2\n",
    "\n",
    "# lib to access files paths\n",
    "import os\n",
    "\n",
    "# import a library to give unique ids to the images\n",
    "import uuid\n",
    "\n",
    "# to check the runtime\n",
    "import time"
   ]
  },
  {
   "cell_type": "markdown",
   "metadata": {},
   "source": [
    "# DEFINE IMAGES TO COLLECT\n"
   ]
  },
  {
   "cell_type": "code",
   "execution_count": 4,
   "metadata": {},
   "outputs": [],
   "source": [
    "labels= ['Paper', 'Scissors', 'Smile']\n",
    "\n",
    "num_of_images= 7"
   ]
  },
  {
   "cell_type": "markdown",
   "metadata": {},
   "source": [
    "# Setup File path"
   ]
  },
  {
   "cell_type": "code",
   "execution_count": 9,
   "metadata": {},
   "outputs": [
    {
     "data": {
      "text/plain": [
       "'nt'"
      ]
     },
     "execution_count": 9,
     "metadata": {},
     "output_type": "execute_result"
    }
   ],
   "source": [
    "os.name  #checking the OS we are working on ... 'nt' mean 'Windows'"
   ]
  },
  {
   "cell_type": "code",
   "execution_count": 5,
   "metadata": {},
   "outputs": [],
   "source": [
    "image_path = os.path.join('images', 'collected_images')"
   ]
  },
  {
   "cell_type": "code",
   "execution_count": 11,
   "metadata": {},
   "outputs": [],
   "source": [
    "if not os.path.exists(image_path):\n",
    "    if os.name=='nt' :\n",
    "        !mkdir {image_path}   #if folder not created using 'os' method then use cmd.\n",
    "\n",
    "for label in labels:\n",
    "    path = os.path.join(image_path, label)\n",
    "    if not os.path.exists(path):\n",
    "        !mkdir {path}"
   ]
  },
  {
   "cell_type": "code",
   "execution_count": null,
   "metadata": {},
   "outputs": [],
   "source": [
    "#!pip uninstall opencv-python-headless"
   ]
  },
  {
   "cell_type": "code",
   "execution_count": 6,
   "metadata": {},
   "outputs": [
    {
     "name": "stdout",
     "output_type": "stream",
     "text": [
      "Collecting images for Smile\n",
      "Collecting image number 0\n",
      "Collecting image number 1\n",
      "Collecting image number 2\n",
      "Collecting image number 3\n",
      "Collecting image number 4\n",
      "Collecting image number 5\n",
      "Collecting image number 6\n"
     ]
    }
   ],
   "source": [
    "for label in labels:\n",
    "    cam = cv2.VideoCapture(0)    #accessing webcam\n",
    "    print('Collecting images for {}'.format(label))\n",
    "    time.sleep(5)\n",
    "    \n",
    "    for i in range(num_of_images):\n",
    "        print('Collecting image number {}'.format(i))\n",
    "        ret, frame = cam.read()\n",
    "        img_save_path = os.path.join(image_path, label, label+str(i)+'{}.jpg'.format(str(uuid.uuid1())))\n",
    "        \n",
    "        cv2.imwrite(img_save_path, frame)\n",
    "        cv2.imshow('Caputre Images', frame)\n",
    "        time.sleep(4)\n",
    "        \n",
    "        if cv2.waitKey(1) & 0xFF == ord('q'):\n",
    "            break\n",
    "\n",
    "cam.release()\n",
    "cv2.destroyAllWindows()"
   ]
  },
  {
   "cell_type": "code",
   "execution_count": 16,
   "metadata": {},
   "outputs": [
    {
     "name": "stdout",
     "output_type": "stream",
     "text": [
      "Collecting pyqt5\n",
      "  Downloading PyQt5-5.15.6-cp36-abi3-win_amd64.whl (6.7 MB)\n",
      "Collecting lxml\n",
      "  Downloading lxml-4.6.4-cp36-cp36m-win_amd64.whl (3.5 MB)\n",
      "Collecting PyQt5-Qt5>=5.15.2\n",
      "  Downloading PyQt5_Qt5-5.15.2-py3-none-win_amd64.whl (50.1 MB)\n",
      "Collecting PyQt5-sip<13,>=12.8\n",
      "  Downloading PyQt5_sip-12.9.0-cp36-cp36m-win_amd64.whl (62 kB)\n",
      "Installing collected packages: PyQt5-sip, PyQt5-Qt5, pyqt5, lxml\n",
      "Successfully installed PyQt5-Qt5-5.15.2 PyQt5-sip-12.9.0 lxml-4.6.4 pyqt5-5.15.6\n"
     ]
    }
   ],
   "source": [
    "!pip install --upgrade pyqt5 lxml"
   ]
  },
  {
   "cell_type": "code",
   "execution_count": 9,
   "metadata": {},
   "outputs": [],
   "source": [
    "label_path = os.path.join('labelling')"
   ]
  },
  {
   "cell_type": "code",
   "execution_count": 3,
   "metadata": {},
   "outputs": [
    {
     "name": "stderr",
     "output_type": "stream",
     "text": [
      "Cloning into 'labelling'...\n"
     ]
    }
   ],
   "source": [
    "if not os.path.exists(label_path):\n",
    "    !mkdir {label_path}\n",
    "    !git clone https://github.com/tzutalin/labelImg {label_path}"
   ]
  },
  {
   "cell_type": "code",
   "execution_count": 10,
   "metadata": {},
   "outputs": [],
   "source": [
    "# installing label image\n",
    "!cd {label_path} && pyrcc5 -o libs/resources.py resources.qrc"
   ]
  },
  {
   "cell_type": "code",
   "execution_count": 11,
   "metadata": {
    "scrolled": true
   },
   "outputs": [
    {
     "name": "stdout",
     "output_type": "stream",
     "text": [
      "Image:G:\\object2\\images\\collected_images\\Smile\\Smile1a0eea695-60a6-11ec-88c3-00f48d43601e.jpg -> Annotation:G:/object2/images/collected_images/Smile/Smile1a0eea695-60a6-11ec-88c3-00f48d43601e.xml"
     ]
    },
    {
     "name": "stderr",
     "output_type": "stream",
     "text": [
      "G:\\object2\\labelling\\labelImg.py:208: DeprecationWarning: an integer is required (got type DockWidgetFeatures).  Implicit conversion to integers using __int__ is deprecated, and may be removed in a future version of Python.\n",
      "  self.dock.setFeatures(self.dock.features() ^ self.dock_features)\n"
     ]
    },
    {
     "name": "stdout",
     "output_type": "stream",
     "text": [
      "\n",
      "Image:G:\\object2\\images\\collected_images\\Smile\\Smile2a354c2e2-60a6-11ec-bbae-00f48d43601e.jpg -> Annotation:G:/object2/images/collected_images/Smile/Smile2a354c2e2-60a6-11ec-bbae-00f48d43601e.xml\n",
      "Image:G:\\object2\\images\\collected_images\\Smile\\Smile3a5bc0cc3-60a6-11ec-85ea-00f48d43601e.jpg -> Annotation:G:/object2/images/collected_images/Smile/Smile3a5bc0cc3-60a6-11ec-85ea-00f48d43601e.xml\n",
      "Image:G:\\object2\\images\\collected_images\\Smile\\Smile4a82209bb-60a6-11ec-899f-00f48d43601e.jpg -> Annotation:G:/object2/images/collected_images/Smile/Smile4a82209bb-60a6-11ec-899f-00f48d43601e.xml\n",
      "Cancel creation.\n",
      "Image:G:\\object2\\images\\collected_images\\Smile\\Smile5aa884c32-60a6-11ec-96b6-00f48d43601e.jpg -> Annotation:G:/object2/images/collected_images/Smile/Smile5aa884c32-60a6-11ec-96b6-00f48d43601e.xml\n",
      "Image:G:\\object2\\images\\collected_images\\Smile\\Smile6acef7076-60a6-11ec-85e0-00f48d43601e.jpg -> Annotation:G:/object2/images/collected_images/Smile/Smile6acef7076-60a6-11ec-85e0-00f48d43601e.xml\n",
      "Image:G:\\object2\\images\\collected_images\\Smile\\Smile09e7c0be7-60a6-11ec-a39a-00f48d43601e.jpg -> Annotation:G:/object2/images/collected_images/Smile/Smile09e7c0be7-60a6-11ec-a39a-00f48d43601e.xml\n"
     ]
    }
   ],
   "source": [
    "# opening label image\n",
    "!cd {label_path} && python labelImg.py"
   ]
  },
  {
   "cell_type": "code",
   "execution_count": 12,
   "metadata": {},
   "outputs": [],
   "source": [
    "#compressing for colab\n",
    "\n",
    "TRAIN_PATH = os.path.join( 'images', 'train')\n",
    "TEST_PATH = os.path.join('images', 'test')\n",
    "ARCHIVE_PATH = os.path.join( 'images', 'archive.tar.gz')\n",
    "!tar -czf {ARCHIVE_PATH} {TRAIN_PATH} {TEST_PATH}"
   ]
  }
 ],
 "metadata": {
  "interpreter": {
   "hash": "8cfb3f5d3732c8e9b7a65fa38dddf816068d0252f6ef0bfbc44616f476e20867"
  },
  "kernelspec": {
   "display_name": "Python 3 (ipykernel)",
   "language": "python",
   "name": "python3"
  },
  "language_info": {
   "codemirror_mode": {
    "name": "ipython",
    "version": 3
   },
   "file_extension": ".py",
   "mimetype": "text/x-python",
   "name": "python",
   "nbconvert_exporter": "python",
   "pygments_lexer": "ipython3",
   "version": "3.9.7"
  }
 },
 "nbformat": 4,
 "nbformat_minor": 2
}
